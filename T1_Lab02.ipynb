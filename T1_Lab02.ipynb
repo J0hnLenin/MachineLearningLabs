{
 "cells": [
  {
   "cell_type": "markdown",
   "metadata": {},
   "source": [
    "Для начала выберем функцию, с которой будем работать в дальнейшем.  \n",
    "Я выбрал функцию Эйлера."
   ]
  },
  {
   "cell_type": "code",
   "execution_count": 1,
   "metadata": {},
   "outputs": [],
   "source": [
    "def euler(n: int) -> int:\n",
    "    \"\"\"Функция Эйлера\n",
    "    Возвращает количество натуральных чисел, \n",
    "    не превосходящих натуральное число n и \n",
    "    взаимно простых с n.\"\"\"\n",
    "    result = n\n",
    "    primeFactors = 2\n",
    "    while primeFactors**2 <= n:\n",
    "        if n % primeFactors == 0:\n",
    "            while n % primeFactors == 0:\n",
    "                n //= primeFactors\n",
    "            result -= result // primeFactors\n",
    "        else:\n",
    "            primeFactors += 1\n",
    "    if n > 1:\n",
    "        result -= result // n\n",
    "    return result\n"
   ]
  },
  {
   "cell_type": "markdown",
   "metadata": {},
   "source": [
    "### Задание 1\n",
    "Создайте декоратор, который будет логировать вызов функции с её аргументами и результатом."
   ]
  },
  {
   "cell_type": "code",
   "execution_count": 2,
   "metadata": {},
   "outputs": [
    {
     "name": "stderr",
     "output_type": "stream",
     "text": [
      "INFO:root:Функция: euler\n",
      "INFO:root:Аргументы: args=(1000000007,) kwargs={}\n",
      "INFO:root:Результат: 1000000006\n"
     ]
    }
   ],
   "source": [
    "import logging\n",
    "\n",
    "logging.basicConfig(level=logging.INFO)\n",
    "\n",
    "def loggingDecorator(f):\n",
    "    def wrapper(*args, **kwargs):\n",
    "        logging.info(f\"Функция: {f.__name__}\")\n",
    "        logging.info(f\"Аргументы: {args=} {kwargs=}\")\n",
    "        result = f(*args, **kwargs)\n",
    "        logging.info(f\"Результат: {result}\")\n",
    "        return result\n",
    "    return wrapper\n",
    "\n",
    "loggingEuler = loggingDecorator(euler)\n",
    "answer = loggingEuler(1000000007)"
   ]
  },
  {
   "cell_type": "markdown",
   "metadata": {},
   "source": [
    "### Задание 2\n",
    "Напишите декоратор, который будет кешировать результаты функции. Если функция вызывается с теми же аргументами, результат берется из кеша."
   ]
  },
  {
   "cell_type": "markdown",
   "metadata": {},
   "source": [
    "Реализуем простой способ кэширования - будем сохранять в словарь посчитанные ранее значения функции, где ключ - аргументы функции.\n",
    "Однако для этой задачи можно использовать и более сложные алгоритмы, например LRU. "
   ]
  },
  {
   "cell_type": "code",
   "execution_count": 3,
   "metadata": {},
   "outputs": [
    {
     "name": "stdout",
     "output_type": "stream",
     "text": [
      "euler(5,){} кешируем результат: 4\n",
      "euler(7,){} кешируем результат: 6\n",
      "euler(5,){} результат из кеша : 4\n"
     ]
    }
   ],
   "source": [
    "def cacheDecorator(f):\n",
    "    cache = {}\n",
    "    def wrapper(*args, **kwargs):\n",
    "        key = str((args, kwargs))\n",
    "        if key in cache:\n",
    "            print(f\"{f.__name__}{args}{kwargs} результат из кеша : {cache[key]}\")    \n",
    "        else:\n",
    "            result = f(*args, **kwargs)\n",
    "            print(f\"{f.__name__}{args}{kwargs} кешируем результат: {result}\")    \n",
    "            cache[key] = result\n",
    "        return cache[key]\n",
    "    return wrapper\n",
    "\n",
    "cacheEuler = cacheDecorator(euler)\n",
    "answer = cacheEuler(5)\n",
    "answer = cacheEuler(7)\n",
    "answer = cacheEuler(5)"
   ]
  },
  {
   "cell_type": "markdown",
   "metadata": {},
   "source": [
    "### Задание 3\n",
    "Создайте два массива и выполните поэлементное сложение с использованием NumPy."
   ]
  },
  {
   "cell_type": "code",
   "execution_count": 4,
   "metadata": {},
   "outputs": [
    {
     "name": "stdout",
     "output_type": "stream",
     "text": [
      "Первый массив:  2 3 1 0 1\n",
      "Второй массив:  2 1 1 1 0\n",
      "Массив суммы :  4 4 2 1 1\n"
     ]
    }
   ],
   "source": [
    "import numpy as np\n",
    "\n",
    "firstArray = np.random.randint(0, 4, 5)\n",
    "secondArray = np.random.randint(0, 4, 5)\n",
    "sumArray = firstArray + secondArray\n",
    "\n",
    "print(\"Первый массив: \", *firstArray)\n",
    "print(\"Второй массив: \", *secondArray)\n",
    "print(\"Массив суммы : \", *sumArray)"
   ]
  },
  {
   "cell_type": "markdown",
   "metadata": {},
   "source": [
    "### Задание 4\n",
    "Напишите декоратор, который будет выводить время выполнения функции."
   ]
  },
  {
   "cell_type": "code",
   "execution_count": 5,
   "metadata": {},
   "outputs": [
    {
     "name": "stdout",
     "output_type": "stream",
     "text": [
      "Время выполнения функции euler: 6.999 мс\n"
     ]
    }
   ],
   "source": [
    "from time import time\n",
    "\n",
    "def stopwatchDecorator(f):\n",
    "    def wrapper(*args, **kwargs):\n",
    "        start = time()\n",
    "        result = f(*args, **kwargs)\n",
    "        end = time()\n",
    "        print(f\"Время выполнения функции {f.__name__}: {((end-start)*1000):.03f} мс\")\n",
    "        return result\n",
    "    return wrapper\n",
    "\n",
    "stopwatchEuler = stopwatchDecorator(euler)\n",
    "answer = stopwatchEuler(1000000007)"
   ]
  }
 ],
 "metadata": {
  "kernelspec": {
   "display_name": "Python 3",
   "language": "python",
   "name": "python3"
  },
  "language_info": {
   "codemirror_mode": {
    "name": "ipython",
    "version": 3
   },
   "file_extension": ".py",
   "mimetype": "text/x-python",
   "name": "python",
   "nbconvert_exporter": "python",
   "pygments_lexer": "ipython3",
   "version": "3.12.3"
  }
 },
 "nbformat": 4,
 "nbformat_minor": 2
}
