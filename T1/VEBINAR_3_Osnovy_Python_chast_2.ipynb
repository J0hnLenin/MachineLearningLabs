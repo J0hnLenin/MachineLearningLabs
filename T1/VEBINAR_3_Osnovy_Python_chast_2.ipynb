{
 "cells": [
  {
   "cell_type": "markdown",
   "id": "d1492c6b-376a-401f-bf21-1e7642a1ff35",
   "metadata": {},
   "source": [
    "# В этом вебинаре мы продолжим знакомство с языком программирования Python и его библиотеками для анализа данных. Мы рассмотрим следующие темы:\n",
    "\n",
    "Уход от циклов и векторизованные вычисления\n",
    "Сортировка массивов\n",
    "Использование Pandas для работы с табличными данными\n",
    "Чтение и запись табличных данных в файловую систему\n",
    "Работа с индексами\n",
    "Фильтрация значений и подготовка данных для анализа\n",
    "Применение функций Pandas к столбцам и строкам таблицы\n",
    "Визуализация данных\n",
    "Сводные таблицы\n",
    "Изменение формы и объединение таблиц\n",
    "Работа с Excel-файлами в Pandas\n",
    "Работа с DataFrame\n",
    "Работа с джойнами и объединение в единую витрину данных\n",
    "\n",
    "## Давайте подробно рассмотрим каждую из этих тем с примерами кода.\n",
    "\n",
    "\n",
    "### Уход от циклов и векторизованные вычисления\n",
    "\n",
    "Векторизация – это процесс замены явных циклов (например, for и while) на векторные операции, которые более эффективны благодаря использованию оптимизированных низкоуровневых библиотек.\n",
    "\n",
    "Пример 1: Сложение двух списков\n",
    "\n",
    "Без векторизации (с использованием цикла):\n"
   ]
  },
  {
   "cell_type": "code",
   "execution_count": 1,
   "id": "afd5e882-7802-45f7-8c97-770729b15ec6",
   "metadata": {},
   "outputs": [
    {
     "name": "stdout",
     "output_type": "stream",
     "text": [
      "Время выполнения без векторизации: 0.07098388671875\n"
     ]
    }
   ],
   "source": [
    "import time\n",
    "\n",
    "list_a = list(range(1, 1000001))\n",
    "list_b = list(range(1, 1000001))\n",
    "list_c = []\n",
    "\n",
    "start_time = time.time()\n",
    "\n",
    "for i in range(len(list_a)):\n",
    "    list_c.append(list_a[i] + list_b[i])\n",
    "\n",
    "print(\"Время выполнения без векторизации:\", time.time() - start_time)"
   ]
  },
  {
   "cell_type": "code",
   "execution_count": 2,
   "id": "a34eefac-e6ff-4087-a749-7d7c7b757daa",
   "metadata": {},
   "outputs": [
    {
     "name": "stdout",
     "output_type": "stream",
     "text": [
      "Время выполнения с векторизацией: 0.0010008811950683594\n"
     ]
    }
   ],
   "source": [
    "import numpy as np\n",
    "import time\n",
    "\n",
    "array_a = np.arange(1, 1000001)\n",
    "array_b = np.arange(1, 1000001)\n",
    "\n",
    "start_time = time.time()\n",
    "\n",
    "array_c = array_a + array_b\n",
    "\n",
    "print(\"Время выполнения с векторизацией:\", time.time() - start_time)"
   ]
  },
  {
   "cell_type": "markdown",
   "id": "f0e2df44-7db0-487b-85b9-c03c204b0866",
   "metadata": {},
   "source": [
    "## Пример 2: Вычисление экспоненты для каждого элемента массива\n",
    "\n",
    "Без векторизации:"
   ]
  },
  {
   "cell_type": "code",
   "execution_count": 3,
   "id": "080c2e74-996f-4870-bf47-403aed27c831",
   "metadata": {},
   "outputs": [
    {
     "name": "stdout",
     "output_type": "stream",
     "text": [
      "Время выполнения без векторизации: 9.799003601074219e-05\n"
     ]
    }
   ],
   "source": [
    "import math\n",
    "import time\n",
    "\n",
    "list_numbers = list(range(1, 100))\n",
    "result = []\n",
    "\n",
    "start_time = time.time()\n",
    "\n",
    "for num in list_numbers:\n",
    "    result.append(math.exp(num))\n",
    "\n",
    "print(\"Время выполнения без векторизации:\", time.time() - start_time)"
   ]
  },
  {
   "cell_type": "markdown",
   "id": "91538a22-4c69-4c49-a11a-c78359030985",
   "metadata": {},
   "source": [
    "С векторизацией:"
   ]
  },
  {
   "cell_type": "code",
   "execution_count": 4,
   "id": "6e1af1cf-1100-4fa3-9a25-fb4c6212a0aa",
   "metadata": {},
   "outputs": [
    {
     "name": "stdout",
     "output_type": "stream",
     "text": [
      "Время выполнения с векторизацией: 0.00023508071899414062\n"
     ]
    }
   ],
   "source": [
    "import numpy as np\n",
    "import time\n",
    "\n",
    "array_numbers = np.arange(1, 100)\n",
    "\n",
    "start_time = time.time()\n",
    "\n",
    "result = np.exp(array_numbers)\n",
    "\n",
    "print(\"Время выполнения с векторизацией:\", time.time() - start_time)"
   ]
  },
  {
   "cell_type": "markdown",
   "id": "58c1a834-1459-4926-a8c7-b11565a000d5",
   "metadata": {},
   "source": [
    "## Сортировка массивов\n",
    "\n",
    "Сортировка данных – важная операция при обработке массивов и таблиц.\n",
    "\n",
    "### Пример 1: Сортировка numpy массива"
   ]
  },
  {
   "cell_type": "code",
   "execution_count": 6,
   "id": "6857145b-a98b-460e-8d0d-23963896271a",
   "metadata": {},
   "outputs": [
    {
     "name": "stdout",
     "output_type": "stream",
     "text": [
      "Исходный массив: [ 6 22 38 36 85 23 72  7 85 55]\n",
      "Отсортированный массив: [ 6  7 22 23 36 38 55 72 85 85]\n"
     ]
    }
   ],
   "source": [
    "import numpy as np\n",
    "\n",
    "array = np.random.randint(1, 100, size=10)\n",
    "print(\"Исходный массив:\", array)\n",
    "\n",
    "sorted_array = np.sort(array)\n",
    "print(\"Отсортированный массив:\", sorted_array)"
   ]
  },
  {
   "cell_type": "markdown",
   "id": "e4835bf0-c8f7-49c9-9831-1d48eb029ac8",
   "metadata": {},
   "source": [
    "### Пример 2: Сортировка двумерного массива по определенному столбцу"
   ]
  },
  {
   "cell_type": "code",
   "execution_count": 7,
   "id": "cf0a3621-a314-4ce9-a995-8cff5439aa22",
   "metadata": {},
   "outputs": [
    {
     "name": "stdout",
     "output_type": "stream",
     "text": [
      "Исходный массив:\n",
      " [[82 88 25]\n",
      " [47 63 98]\n",
      " [26 21 79]\n",
      " [15  1 43]\n",
      " [42 42 77]]\n",
      "Массив, отсортированный по второму столбцу:\n",
      " [[15  1 43]\n",
      " [26 21 79]\n",
      " [42 42 77]\n",
      " [47 63 98]\n",
      " [82 88 25]]\n"
     ]
    }
   ],
   "source": [
    "import numpy as np\n",
    "\n",
    "array = np.random.randint(1, 100, size=(5, 3))\n",
    "print(\"Исходный массив:\\n\", array)\n",
    "\n",
    "# Сортировка по столбцу с индексом 1\n",
    "sorted_array = array[array[:, 1].argsort()]\n",
    "print(\"Массив, отсортированный по второму столбцу:\\n\", sorted_array)"
   ]
  },
  {
   "cell_type": "markdown",
   "id": "26e7dea7-cc3b-4072-b47e-cdd2ce96eccc",
   "metadata": {},
   "source": [
    "## Использование Pandas для работы с табличными данными\n",
    "\n",
    "Pandas – мощная библиотека для работы с табличными данными.\n",
    "\n",
    "Создание DataFrame"
   ]
  },
  {
   "cell_type": "code",
   "execution_count": 11,
   "id": "872089fb-d83c-43fb-b2d2-fe86d53868e1",
   "metadata": {},
   "outputs": [
    {
     "name": "stdout",
     "output_type": "stream",
     "text": [
      "      Имя  Возраст            Город\n",
      "0    Анна       28           Москва\n",
      "1   Борис       34  Санкт-Петербург\n",
      "2  Виктор       29      Новосибирск\n",
      "3  Галина       42     Екатеринбург\n"
     ]
    }
   ],
   "source": [
    "import pandas as pd\n",
    "\n",
    "data = {\n",
    "    'Имя': ['Анна', 'Борис', 'Виктор', 'Галина'],\n",
    "    'Возраст': [28, 34, 29, 42],\n",
    "    'Город': ['Москва', 'Санкт-Петербург', 'Новосибирск', 'Екатеринбург']\n",
    "}\n",
    "\n",
    "df = pd.DataFrame(data)\n",
    "print(df)"
   ]
  },
  {
   "cell_type": "markdown",
   "id": "ba716295-160d-42c9-a659-f81a93aac3c8",
   "metadata": {},
   "source": [
    "Чтение и запись табличных данных в файловую систему\n",
    "\n",
    "Pandas поддерживает различные форматы данных.\n",
    "\n",
    "Чтение CSV файла"
   ]
  },
  {
   "cell_type": "code",
   "execution_count": 9,
   "id": "f192ac82-47de-48b8-8d14-21e7588b5d1b",
   "metadata": {},
   "outputs": [],
   "source": [
    "df.to_csv('data.csv', index=False)"
   ]
  },
  {
   "cell_type": "code",
   "execution_count": 10,
   "id": "9bb5be24-a4b0-4f1a-be8d-19a2e61b1169",
   "metadata": {},
   "outputs": [
    {
     "name": "stdout",
     "output_type": "stream",
     "text": [
      "      Имя  Возраст            Город\n",
      "0    Анна       28           Москва\n",
      "1   Борис       34  Санкт-Петербург\n",
      "2  Виктор       29      Новосибирск\n",
      "3  Галина       42     Екатеринбург\n"
     ]
    }
   ],
   "source": [
    "import pandas as pd\n",
    "\n",
    "df = pd.read_csv('data.csv')\n",
    "print(df.head())"
   ]
  },
  {
   "cell_type": "markdown",
   "id": "adc4bf01-d04d-48e9-8b0c-43e22937bba0",
   "metadata": {},
   "source": [
    "Запись DataFrame в CSV файл\n",
    "\n",
    "df.to_csv('new_data.csv', index=False)\n",
    "\n",
    "\n",
    "## Работа с индексами\n",
    "\n",
    "Индексы позволяют обращаться к данным по определенному ключу.\n",
    "\n",
    "Установка индекса"
   ]
  },
  {
   "cell_type": "code",
   "execution_count": 12,
   "id": "822b310a-4606-44cc-9abb-f289117a2c3d",
   "metadata": {},
   "outputs": [],
   "source": [
    "df2 = df.set_index(\"Имя\")"
   ]
  },
  {
   "cell_type": "code",
   "execution_count": 13,
   "id": "399aad68-b8df-4d53-85b8-1c8a689b1089",
   "metadata": {},
   "outputs": [
    {
     "data": {
      "text/html": [
       "<div>\n",
       "<style scoped>\n",
       "    .dataframe tbody tr th:only-of-type {\n",
       "        vertical-align: middle;\n",
       "    }\n",
       "\n",
       "    .dataframe tbody tr th {\n",
       "        vertical-align: top;\n",
       "    }\n",
       "\n",
       "    .dataframe thead th {\n",
       "        text-align: right;\n",
       "    }\n",
       "</style>\n",
       "<table border=\"1\" class=\"dataframe\">\n",
       "  <thead>\n",
       "    <tr style=\"text-align: right;\">\n",
       "      <th></th>\n",
       "      <th>Возраст</th>\n",
       "      <th>Город</th>\n",
       "    </tr>\n",
       "    <tr>\n",
       "      <th>Имя</th>\n",
       "      <th></th>\n",
       "      <th></th>\n",
       "    </tr>\n",
       "  </thead>\n",
       "  <tbody>\n",
       "    <tr>\n",
       "      <th>Анна</th>\n",
       "      <td>28</td>\n",
       "      <td>Москва</td>\n",
       "    </tr>\n",
       "    <tr>\n",
       "      <th>Борис</th>\n",
       "      <td>34</td>\n",
       "      <td>Санкт-Петербург</td>\n",
       "    </tr>\n",
       "    <tr>\n",
       "      <th>Виктор</th>\n",
       "      <td>29</td>\n",
       "      <td>Новосибирск</td>\n",
       "    </tr>\n",
       "    <tr>\n",
       "      <th>Галина</th>\n",
       "      <td>42</td>\n",
       "      <td>Екатеринбург</td>\n",
       "    </tr>\n",
       "  </tbody>\n",
       "</table>\n",
       "</div>"
      ],
      "text/plain": [
       "        Возраст            Город\n",
       "Имя                             \n",
       "Анна         28           Москва\n",
       "Борис        34  Санкт-Петербург\n",
       "Виктор       29      Новосибирск\n",
       "Галина       42     Екатеринбург"
      ]
     },
     "execution_count": 13,
     "metadata": {},
     "output_type": "execute_result"
    }
   ],
   "source": [
    "df2"
   ]
  },
  {
   "cell_type": "code",
   "execution_count": 14,
   "id": "4cbba065-aa84-4d80-8ba7-9fdfd9f3143f",
   "metadata": {},
   "outputs": [
    {
     "data": {
      "text/html": [
       "<div>\n",
       "<style scoped>\n",
       "    .dataframe tbody tr th:only-of-type {\n",
       "        vertical-align: middle;\n",
       "    }\n",
       "\n",
       "    .dataframe tbody tr th {\n",
       "        vertical-align: top;\n",
       "    }\n",
       "\n",
       "    .dataframe thead th {\n",
       "        text-align: right;\n",
       "    }\n",
       "</style>\n",
       "<table border=\"1\" class=\"dataframe\">\n",
       "  <thead>\n",
       "    <tr style=\"text-align: right;\">\n",
       "      <th></th>\n",
       "      <th>Имя</th>\n",
       "      <th>Возраст</th>\n",
       "      <th>Город</th>\n",
       "    </tr>\n",
       "  </thead>\n",
       "  <tbody>\n",
       "    <tr>\n",
       "      <th>0</th>\n",
       "      <td>Анна</td>\n",
       "      <td>28</td>\n",
       "      <td>Москва</td>\n",
       "    </tr>\n",
       "    <tr>\n",
       "      <th>1</th>\n",
       "      <td>Борис</td>\n",
       "      <td>34</td>\n",
       "      <td>Санкт-Петербург</td>\n",
       "    </tr>\n",
       "    <tr>\n",
       "      <th>2</th>\n",
       "      <td>Виктор</td>\n",
       "      <td>29</td>\n",
       "      <td>Новосибирск</td>\n",
       "    </tr>\n",
       "    <tr>\n",
       "      <th>3</th>\n",
       "      <td>Галина</td>\n",
       "      <td>42</td>\n",
       "      <td>Екатеринбург</td>\n",
       "    </tr>\n",
       "  </tbody>\n",
       "</table>\n",
       "</div>"
      ],
      "text/plain": [
       "      Имя  Возраст            Город\n",
       "0    Анна       28           Москва\n",
       "1   Борис       34  Санкт-Петербург\n",
       "2  Виктор       29      Новосибирск\n",
       "3  Галина       42     Екатеринбург"
      ]
     },
     "execution_count": 14,
     "metadata": {},
     "output_type": "execute_result"
    }
   ],
   "source": [
    "df"
   ]
  },
  {
   "cell_type": "code",
   "execution_count": 15,
   "id": "e407f28c-0fc1-4f15-bd97-bea5dd26b3da",
   "metadata": {},
   "outputs": [
    {
     "name": "stdout",
     "output_type": "stream",
     "text": [
      "        Возраст            Город\n",
      "Имя                             \n",
      "Анна         28           Москва\n",
      "Борис        34  Санкт-Петербург\n",
      "Виктор       29      Новосибирск\n",
      "Галина       42     Екатеринбург\n"
     ]
    }
   ],
   "source": [
    "df.set_index('Имя', inplace=True)\n",
    "print(df)"
   ]
  },
  {
   "cell_type": "markdown",
   "id": "fe198ad6-618e-4c54-8f19-caf66a2643f3",
   "metadata": {},
   "source": [
    "Сброс индекса"
   ]
  },
  {
   "cell_type": "code",
   "execution_count": 16,
   "id": "545a2eed-e817-433f-830b-8d07446225d8",
   "metadata": {},
   "outputs": [
    {
     "name": "stdout",
     "output_type": "stream",
     "text": [
      "      Имя  Возраст            Город\n",
      "0    Анна       28           Москва\n",
      "1   Борис       34  Санкт-Петербург\n",
      "2  Виктор       29      Новосибирск\n",
      "3  Галина       42     Екатеринбург\n"
     ]
    }
   ],
   "source": [
    "df.reset_index(inplace=True)\n",
    "print(df)"
   ]
  },
  {
   "cell_type": "markdown",
   "id": "58b85d1f-ea13-4a43-89c4-f54269816269",
   "metadata": {},
   "source": [
    "## Фильтрация значений и подготовка данных для анализа\n",
    "\n",
    "Фильтрация данных – отбор строк, соответствующих определенным условиям.\n",
    "\n",
    "Пример: Отбор людей старше 30 лет"
   ]
  },
  {
   "cell_type": "code",
   "execution_count": 19,
   "id": "9beaea41-86f7-4e95-b838-31cb568771dd",
   "metadata": {},
   "outputs": [
    {
     "name": "stdout",
     "output_type": "stream",
     "text": [
      "      Имя  Возраст            Город\n",
      "1   Борис       34  Санкт-Петербург\n",
      "3  Галина       42     Екатеринбург\n"
     ]
    }
   ],
   "source": [
    "filtered_df = df[df['Возраст'] > 30]\n",
    "print(filtered_df)"
   ]
  },
  {
   "cell_type": "code",
   "execution_count": 22,
   "id": "0bfdf946-5f52-4fe2-b198-91d15b94095c",
   "metadata": {},
   "outputs": [
    {
     "data": {
      "text/plain": [
       "0    False\n",
       "1     True\n",
       "2    False\n",
       "3     True\n",
       "Name: Возраст, dtype: bool"
      ]
     },
     "execution_count": 22,
     "metadata": {},
     "output_type": "execute_result"
    }
   ],
   "source": [
    "df['Возраст'] > 30"
   ]
  },
  {
   "cell_type": "markdown",
   "id": "83c8178b-8e13-49f0-ab9a-d4881e9ed023",
   "metadata": {},
   "source": [
    "### Применение функций Pandas к столбцам и строкам таблицы\n",
    "\n",
    "Применение функции к столбцу (метод apply)"
   ]
  },
  {
   "cell_type": "code",
   "execution_count": 23,
   "id": "902fa3f2-ac01-42b8-8ed7-b5e2276cc709",
   "metadata": {},
   "outputs": [
    {
     "name": "stdout",
     "output_type": "stream",
     "text": [
      "      Имя  Возраст            Город Совершеннолетний\n",
      "0    Анна       28           Москва               Да\n",
      "1   Борис       34  Санкт-Петербург               Да\n",
      "2  Виктор       29      Новосибирск               Да\n",
      "3  Галина       42     Екатеринбург               Да\n"
     ]
    }
   ],
   "source": [
    "# Добавим новый столбец с информацией о том, является ли человек совершеннолетним\n",
    "df['Совершеннолетний'] = df['Возраст'].apply(lambda x: 'Да' if x >= 18 else 'Нет')\n",
    "print(df)"
   ]
  },
  {
   "cell_type": "markdown",
   "id": "87cab47d-25cf-4b6c-b8e0-c98f1dc13fa4",
   "metadata": {},
   "source": [
    "## Визуализация данных\n",
    "\n",
    "Pandas интегрирован с Matplotlib для построения графиков.\n",
    "\n",
    "Построение гистограммы распределения возраста\n"
   ]
  },
  {
   "cell_type": "code",
   "execution_count": 24,
   "id": "d626066d-020f-4a87-a0d9-11f0bd073c2a",
   "metadata": {},
   "outputs": [
    {
     "data": {
      "image/png": "[encoded data removed]",
      "text/plain": [
       "<Figure size 640x480 with 1 Axes>"
      ]
     },
     "metadata": {},
     "output_type": "display_data"
    }
   ],
   "source": [
    "import matplotlib.pyplot as plt\n",
    "\n",
    "df['Возраст'].hist()\n",
    "plt.xlabel('Возраст')\n",
    "plt.ylabel('Количество')\n",
    "plt.title('Распределение возраста')\n",
    "plt.show()"
   ]
  },
  {
   "cell_type": "code",
   "execution_count": 25,
   "id": "0c7125f6-ea9f-4f86-84ca-5f77d9ca52c0",
   "metadata": {},
   "outputs": [
    {
     "data": {
      "text/plain": [
       "<Axes: >"
      ]
     },
     "execution_count": 25,
     "metadata": {},
     "output_type": "execute_result"
    },
    {
     "data": {
      "image/png": "[encoded data removed]",
      "text/plain": [
       "<Figure size 640x480 with 1 Axes>"
      ]
     },
     "metadata": {},
     "output_type": "display_data"
    }
   ],
   "source": [
    "df['Возраст'].plot()"
   ]
  },
  {
   "cell_type": "markdown",
   "id": "c69a716c-85a0-49a2-9000-fae684474267",
   "metadata": {},
   "source": [
    "## Сводные таблицы\n",
    "\n",
    "Сводные таблицы помогают агрегировать данные.\n",
    "\n",
    "Пример: Средний возраст по городам"
   ]
  },
  {
   "cell_type": "code",
   "execution_count": 26,
   "id": "76bbfabe-6993-400d-a1d3-e090ab96b2b7",
   "metadata": {},
   "outputs": [
    {
     "name": "stdout",
     "output_type": "stream",
     "text": [
      "                 Возраст\n",
      "Город                   \n",
      "Екатеринбург        42.0\n",
      "Москва              28.0\n",
      "Новосибирск         29.0\n",
      "Санкт-Петербург     34.0\n"
     ]
    }
   ],
   "source": [
    "pivot_table = df.pivot_table(values='Возраст', index='Город', aggfunc='mean')\n",
    "print(pivot_table)"
   ]
  },
  {
   "cell_type": "markdown",
   "id": "8adbed5d-9d95-41bd-80ae-2287a9e645e9",
   "metadata": {},
   "source": [
    "## Изменение формы и объединение таблиц"
   ]
  },
  {
   "cell_type": "markdown",
   "id": "4dc7df44-94ea-4e9a-82be-21f6581097c0",
   "metadata": {},
   "source": [
    "Слияние таблиц (merge)"
   ]
  },
  {
   "cell_type": "code",
   "execution_count": 27,
   "id": "65089a1f-e413-40b2-ab3e-71034864a56f",
   "metadata": {},
   "outputs": [
    {
     "name": "stdout",
     "output_type": "stream",
     "text": [
      "      Имя  Возраст            Город Совершеннолетний Профессия\n",
      "0    Анна       28           Москва               Да   Инженер\n",
      "1   Борис       34  Санкт-Петербург               Да   Учитель\n",
      "2  Виктор       29      Новосибирск               Да      Врач\n",
      "3  Галина       42     Екатеринбург               Да     Юрист\n"
     ]
    }
   ],
   "source": [
    "data_additional = {\n",
    "    'Имя': ['Анна', 'Борис', 'Виктор', 'Галина'],\n",
    "    'Профессия': ['Инженер', 'Учитель', 'Врач', 'Юрист']\n",
    "}\n",
    "\n",
    "df_additional = pd.DataFrame(data_additional)\n",
    "\n",
    "df_merged = pd.merge(df, df_additional, on='Имя')\n",
    "print(df_merged)"
   ]
  },
  {
   "cell_type": "markdown",
   "id": "6a03f5b7-476d-4941-bfe4-1629e0932956",
   "metadata": {},
   "source": [
    "Добавление новых строк (append)"
   ]
  },
  {
   "cell_type": "code",
   "execution_count": 39,
   "id": "ca88880a-1766-457b-b735-f0dd4fe9d9bc",
   "metadata": {},
   "outputs": [],
   "source": [
    "df3 = pd.concat([df, df])"
   ]
  },
  {
   "cell_type": "code",
   "execution_count": 40,
   "id": "627596a8-de19-406e-845d-865a4ae1f7fb",
   "metadata": {},
   "outputs": [
    {
     "data": {
      "text/html": [
       "<div>\n",
       "<style scoped>\n",
       "    .dataframe tbody tr th:only-of-type {\n",
       "        vertical-align: middle;\n",
       "    }\n",
       "\n",
       "    .dataframe tbody tr th {\n",
       "        vertical-align: top;\n",
       "    }\n",
       "\n",
       "    .dataframe thead th {\n",
       "        text-align: right;\n",
       "    }\n",
       "</style>\n",
       "<table border=\"1\" class=\"dataframe\">\n",
       "  <thead>\n",
       "    <tr style=\"text-align: right;\">\n",
       "      <th></th>\n",
       "      <th>Имя</th>\n",
       "      <th>Возраст</th>\n",
       "      <th>Город</th>\n",
       "      <th>Совершеннолетний</th>\n",
       "    </tr>\n",
       "  </thead>\n",
       "  <tbody>\n",
       "    <tr>\n",
       "      <th>0</th>\n",
       "      <td>Анна</td>\n",
       "      <td>28</td>\n",
       "      <td>Москва</td>\n",
       "      <td>Да</td>\n",
       "    </tr>\n",
       "    <tr>\n",
       "      <th>1</th>\n",
       "      <td>Борис</td>\n",
       "      <td>34</td>\n",
       "      <td>Санкт-Петербург</td>\n",
       "      <td>Да</td>\n",
       "    </tr>\n",
       "    <tr>\n",
       "      <th>2</th>\n",
       "      <td>Виктор</td>\n",
       "      <td>29</td>\n",
       "      <td>Новосибирск</td>\n",
       "      <td>Да</td>\n",
       "    </tr>\n",
       "    <tr>\n",
       "      <th>3</th>\n",
       "      <td>Галина</td>\n",
       "      <td>42</td>\n",
       "      <td>Екатеринбург</td>\n",
       "      <td>Да</td>\n",
       "    </tr>\n",
       "    <tr>\n",
       "      <th>0</th>\n",
       "      <td>Анна</td>\n",
       "      <td>28</td>\n",
       "      <td>Москва</td>\n",
       "      <td>Да</td>\n",
       "    </tr>\n",
       "    <tr>\n",
       "      <th>1</th>\n",
       "      <td>Борис</td>\n",
       "      <td>34</td>\n",
       "      <td>Санкт-Петербург</td>\n",
       "      <td>Да</td>\n",
       "    </tr>\n",
       "    <tr>\n",
       "      <th>2</th>\n",
       "      <td>Виктор</td>\n",
       "      <td>29</td>\n",
       "      <td>Новосибирск</td>\n",
       "      <td>Да</td>\n",
       "    </tr>\n",
       "    <tr>\n",
       "      <th>3</th>\n",
       "      <td>Галина</td>\n",
       "      <td>42</td>\n",
       "      <td>Екатеринбург</td>\n",
       "      <td>Да</td>\n",
       "    </tr>\n",
       "  </tbody>\n",
       "</table>\n",
       "</div>"
      ],
      "text/plain": [
       "      Имя  Возраст            Город Совершеннолетний\n",
       "0    Анна       28           Москва               Да\n",
       "1   Борис       34  Санкт-Петербург               Да\n",
       "2  Виктор       29      Новосибирск               Да\n",
       "3  Галина       42     Екатеринбург               Да\n",
       "0    Анна       28           Москва               Да\n",
       "1   Борис       34  Санкт-Петербург               Да\n",
       "2  Виктор       29      Новосибирск               Да\n",
       "3  Галина       42     Екатеринбург               Да"
      ]
     },
     "execution_count": 40,
     "metadata": {},
     "output_type": "execute_result"
    }
   ],
   "source": [
    "df3"
   ]
  },
  {
   "cell_type": "code",
   "execution_count": null,
   "id": "2a477b1d-7de4-4969-8b69-8c257930510a",
   "metadata": {},
   "outputs": [],
   "source": []
  },
  {
   "cell_type": "code",
   "execution_count": 30,
   "id": "d224995b-b4a0-4d9f-bfd2-63ae643980d1",
   "metadata": {},
   "outputs": [
    {
     "name": "stdout",
     "output_type": "stream",
     "text": [
      "       Имя  Возраст            Город Совершеннолетний    Профессия\n",
      "0     Анна       28           Москва               Да      Инженер\n",
      "1    Борис       34  Санкт-Петербург               Да      Учитель\n",
      "2   Виктор       29      Новосибирск               Да         Врач\n",
      "3   Галина       42     Екатеринбург               Да        Юрист\n",
      "4  Дмитрий       35           Казань               Да  Программист\n",
      "5  Дмитрий       35           Казань               Да  Программист\n",
      "6  Дмитрий       35           Казань               Да  Программист\n"
     ]
    }
   ],
   "source": [
    "new_data = {'Имя': 'Дмитрий', 'Возраст': 35, 'Город': 'Казань', 'Совершеннолетний': 'Да', 'Профессия': 'Программист'}\n",
    "df_merged.loc[len(df_merged)] = new_data\n",
    "print(df_merged)"
   ]
  },
  {
   "cell_type": "code",
   "execution_count": 31,
   "id": "c0dc3f2e-797e-426f-bf25-6fffe8fdfef9",
   "metadata": {},
   "outputs": [
    {
     "data": {
      "text/html": [
       "<div>\n",
       "<style scoped>\n",
       "    .dataframe tbody tr th:only-of-type {\n",
       "        vertical-align: middle;\n",
       "    }\n",
       "\n",
       "    .dataframe tbody tr th {\n",
       "        vertical-align: top;\n",
       "    }\n",
       "\n",
       "    .dataframe thead th {\n",
       "        text-align: right;\n",
       "    }\n",
       "</style>\n",
       "<table border=\"1\" class=\"dataframe\">\n",
       "  <thead>\n",
       "    <tr style=\"text-align: right;\">\n",
       "      <th></th>\n",
       "      <th>Имя</th>\n",
       "      <th>Возраст</th>\n",
       "      <th>Город</th>\n",
       "      <th>Совершеннолетний</th>\n",
       "      <th>Профессия</th>\n",
       "    </tr>\n",
       "  </thead>\n",
       "  <tbody>\n",
       "    <tr>\n",
       "      <th>0</th>\n",
       "      <td>Анна</td>\n",
       "      <td>28</td>\n",
       "      <td>Москва</td>\n",
       "      <td>Да</td>\n",
       "      <td>Инженер</td>\n",
       "    </tr>\n",
       "    <tr>\n",
       "      <th>1</th>\n",
       "      <td>Борис</td>\n",
       "      <td>34</td>\n",
       "      <td>Санкт-Петербург</td>\n",
       "      <td>Да</td>\n",
       "      <td>Учитель</td>\n",
       "    </tr>\n",
       "    <tr>\n",
       "      <th>2</th>\n",
       "      <td>Виктор</td>\n",
       "      <td>29</td>\n",
       "      <td>Новосибирск</td>\n",
       "      <td>Да</td>\n",
       "      <td>Врач</td>\n",
       "    </tr>\n",
       "    <tr>\n",
       "      <th>3</th>\n",
       "      <td>Галина</td>\n",
       "      <td>42</td>\n",
       "      <td>Екатеринбург</td>\n",
       "      <td>Да</td>\n",
       "      <td>Юрист</td>\n",
       "    </tr>\n",
       "    <tr>\n",
       "      <th>4</th>\n",
       "      <td>Дмитрий</td>\n",
       "      <td>35</td>\n",
       "      <td>Казань</td>\n",
       "      <td>Да</td>\n",
       "      <td>Программист</td>\n",
       "    </tr>\n",
       "  </tbody>\n",
       "</table>\n",
       "</div>"
      ],
      "text/plain": [
       "       Имя  Возраст            Город Совершеннолетний    Профессия\n",
       "0     Анна       28           Москва               Да      Инженер\n",
       "1    Борис       34  Санкт-Петербург               Да      Учитель\n",
       "2   Виктор       29      Новосибирск               Да         Врач\n",
       "3   Галина       42     Екатеринбург               Да        Юрист\n",
       "4  Дмитрий       35           Казань               Да  Программист"
      ]
     },
     "execution_count": 31,
     "metadata": {},
     "output_type": "execute_result"
    }
   ],
   "source": [
    "df_merged.drop_duplicates()"
   ]
  },
  {
   "cell_type": "markdown",
   "id": "80ce8cbf-aa49-423c-9dd8-bd7c32bee1cb",
   "metadata": {},
   "source": [
    "## Работа с Excel-файлами в Pandas\n",
    "\n",
    "Чтение данных из Excel"
   ]
  },
  {
   "cell_type": "code",
   "execution_count": 32,
   "id": "ee3620d7-e125-4764-9ba6-e0b12eb62d12",
   "metadata": {},
   "outputs": [
    {
     "name": "stdout",
     "output_type": "stream",
     "text": [
      "       Имя  Возраст            Город Совершеннолетний    Профессия\n",
      "0     Анна       28           Москва               Да      Инженер\n",
      "1    Борис       34  Санкт-Петербург               Да      Учитель\n",
      "2   Виктор       29      Новосибирск               Да         Врач\n",
      "3   Галина       42     Екатеринбург               Да        Юрист\n",
      "4  Дмитрий       35           Казань               Да  Программист\n"
     ]
    }
   ],
   "source": [
    "df_excel = pd.read_excel('data.xlsx', sheet_name='Sheet1')\n",
    "print(df_excel.head())"
   ]
  },
  {
   "cell_type": "markdown",
   "id": "083e7dbe-a194-4a21-9145-b7f2f84beb3d",
   "metadata": {},
   "source": [
    "Запись данных в Excel"
   ]
  },
  {
   "cell_type": "code",
   "execution_count": 33,
   "id": "1aa51d80-2594-425a-83ce-a37e5972ba9b",
   "metadata": {},
   "outputs": [],
   "source": [
    "df_merged.to_excel('data.xlsx', index=False)"
   ]
  },
  {
   "cell_type": "markdown",
   "id": "76e83dd7-e202-4138-b5a2-5b8ceceb6cb4",
   "metadata": {},
   "source": [
    "## Работа с DataFrame\n",
    "\n",
    "DataFrame – основной объект Pandas для работы с табличными данными.\n",
    "\n",
    "Основные операции с DataFrame\n",
    "\n",
    "- Просмотр первых строк: df.head()\n",
    "- Просмотр последних строк: df.tail()\n",
    "- Получение информации о данных: df.info()\n",
    "- Описание статистики: df.describe()\n"
   ]
  },
  {
   "cell_type": "markdown",
   "id": "1a7bf005-85e8-4287-90f4-0e785ed3f0c3",
   "metadata": {},
   "source": [
    "Работа с джойнами и объединение в единую витрину данных\n",
    "\n",
    "Виды объединений\n",
    "\n",
    "- Inner Join – пересечение\n",
    "- Left Join – левое внешнее объединение\n",
    "- Right Join – правое внешнее объединение\n",
    "- Outer Join – полное внешнее объединение\n",
    "\n",
    "Пример: Объединение двух таблиц с использованием Left Join"
   ]
  },
  {
   "cell_type": "code",
   "execution_count": 34,
   "id": "a883f413-ed97-497c-a790-20188cab126b",
   "metadata": {},
   "outputs": [
    {
     "name": "stdout",
     "output_type": "stream",
     "text": [
      "   Заказ ID Имя клиента  Сумма оплаты\n",
      "0         1        Анна         200.0\n",
      "1         2       Борис         450.0\n",
      "2         3   Екатерина           NaN\n"
     ]
    }
   ],
   "source": [
    "data_orders = {\n",
    "    'Заказ ID': [1, 2, 3],\n",
    "    'Имя клиента': ['Анна', 'Борис', 'Екатерина']\n",
    "}\n",
    "\n",
    "data_payments = {\n",
    "    'Заказ ID': [1, 2],\n",
    "    'Сумма оплаты': [200, 450]\n",
    "}\n",
    "\n",
    "df_orders = pd.DataFrame(data_orders)\n",
    "df_payments = pd.DataFrame(data_payments)\n",
    "\n",
    "df_result = pd.merge(df_orders, df_payments, on='Заказ ID', how='left')\n",
    "print(df_result)"
   ]
  },
  {
   "cell_type": "code",
   "execution_count": 38,
   "id": "65d3d99a-571f-4218-bab5-94fc24ad2d03",
   "metadata": {},
   "outputs": [
    {
     "data": {
      "text/plain": [
       "numpy.float64"
      ]
     },
     "execution_count": 38,
     "metadata": {},
     "output_type": "execute_result"
    }
   ],
   "source": [
    "type(df_result.loc[2, \"Сумма оплаты\"])"
   ]
  },
  {
   "cell_type": "markdown",
   "id": "134d44ed-001c-4988-87fc-2a1ced9d546f",
   "metadata": {},
   "source": [
    "## Заключение\n",
    "\n",
    "В этом вебинаре мы рассмотрели основные приемы работы с данными в Python, научились оптимизировать код с помощью векторизации, работать с массивами и DataFrame, выполнять фильтрацию и агрегирование данных, а также визуализировать результаты. Эти знания являются фундаментальными для дальнейшего изучения анализа данных и машинного обучения в Python.\n",
    "\n",
    "## Полезные ссылки\n",
    "\n",
    "Документация NumPy\n",
    "Документация Pandas\n",
    "Руководство по визуализации данных в Matplotlib\n",
    "\n",
    "## Вопросы для самоконтроля\n",
    "\n",
    "- Как векторизация может помочь ускорить вычисления в Python?\n",
    "- Какие операции можно выполнять с DataFrame в Pandas?\n",
    "- Как объединить две таблицы по определенному ключу?\n",
    "- Какие типы объединений существуют в SQL и Pandas?\n",
    "- Как выполнить фильтрацию данных по условию?\n"
   ]
  },
  {
   "cell_type": "markdown",
   "id": "51bf54ad-4a77-497e-aa94-b452a2c775af",
   "metadata": {},
   "source": [
    "## Ключевые моменты\n",
    "\n",
    "- Векторизация ускоряет вычисления.\n",
    "- Pandas – основной инструмент для работы с табличными данными в Python.\n",
    "- DataFrame – двумерная структура данных, аналогичная таблице.\n",
    "- Фильтрация позволяет отбирать данные по условиям.\n",
    "- Объединение таблиц важно для интеграции различных источников данных.\n",
    "- Визуализация помогает понять и представить данные.\n"
   ]
  },
  {
   "cell_type": "code",
   "execution_count": null,
   "id": "455ba106-2618-409d-a6d7-cbb1034f0d5d",
   "metadata": {},
   "outputs": [],
   "source": []
  }
 ],
 "metadata": {
  "kernelspec": {
   "display_name": "Python 3 (ipykernel)",
   "language": "python",
   "name": "python3"
  },
  "language_info": {
   "codemirror_mode": {
    "name": "ipython",
    "version": 3
   },
   "file_extension": ".py",
   "mimetype": "text/x-python",
   "name": "python",
   "nbconvert_exporter": "python",
   "pygments_lexer": "ipython3",
   "version": "3.11.8"
  }
 },
 "nbformat": 4,
 "nbformat_minor": 5
}
