{
 "cells": [
  {
   "cell_type": "markdown",
   "metadata": {},
   "source": [
    "### Импорт библиотек"
   ]
  },
  {
   "cell_type": "code",
   "execution_count": 94,
   "metadata": {},
   "outputs": [],
   "source": [
    "import pandas as pd\n",
    "import numpy as np\n",
    "import matplotlib.pyplot as plt\n",
    "import seaborn as sns\n",
    "\n",
    "from sklearn.model_selection import train_test_split\n",
    "from sklearn.tree import DecisionTreeClassifier\n",
    "from sklearn.model_selection import GridSearchCV\n",
    "from sklearn.metrics import accuracy_score, precision_score, recall_score, f1_score, confusion_matrix, ConfusionMatrixDisplay"
   ]
  },
  {
   "cell_type": "markdown",
   "metadata": {},
   "source": [
    "### Задание 1"
   ]
  },
  {
   "cell_type": "markdown",
   "metadata": {},
   "source": [
    "1) Загрузите датасет “Титаник” "
   ]
  },
  {
   "cell_type": "code",
   "execution_count": 22,
   "metadata": {},
   "outputs": [
    {
     "data": {
      "text/html": [
       "<div>\n",
       "<style scoped>\n",
       "    .dataframe tbody tr th:only-of-type {\n",
       "        vertical-align: middle;\n",
       "    }\n",
       "\n",
       "    .dataframe tbody tr th {\n",
       "        vertical-align: top;\n",
       "    }\n",
       "\n",
       "    .dataframe thead th {\n",
       "        text-align: right;\n",
       "    }\n",
       "</style>\n",
       "<table border=\"1\" class=\"dataframe\">\n",
       "  <thead>\n",
       "    <tr style=\"text-align: right;\">\n",
       "      <th></th>\n",
       "      <th>PassengerId</th>\n",
       "      <th>Survived</th>\n",
       "      <th>Pclass</th>\n",
       "      <th>Name</th>\n",
       "      <th>Sex</th>\n",
       "      <th>Age</th>\n",
       "      <th>SibSp</th>\n",
       "      <th>Parch</th>\n",
       "      <th>Ticket</th>\n",
       "      <th>Fare</th>\n",
       "      <th>Cabin</th>\n",
       "      <th>Embarked</th>\n",
       "    </tr>\n",
       "  </thead>\n",
       "  <tbody>\n",
       "    <tr>\n",
       "      <th>0</th>\n",
       "      <td>1</td>\n",
       "      <td>0</td>\n",
       "      <td>3</td>\n",
       "      <td>Braund, Mr. Owen Harris</td>\n",
       "      <td>male</td>\n",
       "      <td>22.0</td>\n",
       "      <td>1</td>\n",
       "      <td>0</td>\n",
       "      <td>A/5 21171</td>\n",
       "      <td>7.2500</td>\n",
       "      <td>NaN</td>\n",
       "      <td>S</td>\n",
       "    </tr>\n",
       "    <tr>\n",
       "      <th>1</th>\n",
       "      <td>2</td>\n",
       "      <td>1</td>\n",
       "      <td>1</td>\n",
       "      <td>Cumings, Mrs. John Bradley (Florence Briggs Th...</td>\n",
       "      <td>female</td>\n",
       "      <td>38.0</td>\n",
       "      <td>1</td>\n",
       "      <td>0</td>\n",
       "      <td>PC 17599</td>\n",
       "      <td>71.2833</td>\n",
       "      <td>C85</td>\n",
       "      <td>C</td>\n",
       "    </tr>\n",
       "    <tr>\n",
       "      <th>2</th>\n",
       "      <td>3</td>\n",
       "      <td>1</td>\n",
       "      <td>3</td>\n",
       "      <td>Heikkinen, Miss. Laina</td>\n",
       "      <td>female</td>\n",
       "      <td>26.0</td>\n",
       "      <td>0</td>\n",
       "      <td>0</td>\n",
       "      <td>STON/O2. 3101282</td>\n",
       "      <td>7.9250</td>\n",
       "      <td>NaN</td>\n",
       "      <td>S</td>\n",
       "    </tr>\n",
       "    <tr>\n",
       "      <th>3</th>\n",
       "      <td>4</td>\n",
       "      <td>1</td>\n",
       "      <td>1</td>\n",
       "      <td>Futrelle, Mrs. Jacques Heath (Lily May Peel)</td>\n",
       "      <td>female</td>\n",
       "      <td>35.0</td>\n",
       "      <td>1</td>\n",
       "      <td>0</td>\n",
       "      <td>113803</td>\n",
       "      <td>53.1000</td>\n",
       "      <td>C123</td>\n",
       "      <td>S</td>\n",
       "    </tr>\n",
       "    <tr>\n",
       "      <th>4</th>\n",
       "      <td>5</td>\n",
       "      <td>0</td>\n",
       "      <td>3</td>\n",
       "      <td>Allen, Mr. William Henry</td>\n",
       "      <td>male</td>\n",
       "      <td>35.0</td>\n",
       "      <td>0</td>\n",
       "      <td>0</td>\n",
       "      <td>373450</td>\n",
       "      <td>8.0500</td>\n",
       "      <td>NaN</td>\n",
       "      <td>S</td>\n",
       "    </tr>\n",
       "  </tbody>\n",
       "</table>\n",
       "</div>"
      ],
      "text/plain": [
       "   PassengerId  Survived  Pclass  \\\n",
       "0            1         0       3   \n",
       "1            2         1       1   \n",
       "2            3         1       3   \n",
       "3            4         1       1   \n",
       "4            5         0       3   \n",
       "\n",
       "                                                Name     Sex   Age  SibSp  \\\n",
       "0                            Braund, Mr. Owen Harris    male  22.0      1   \n",
       "1  Cumings, Mrs. John Bradley (Florence Briggs Th...  female  38.0      1   \n",
       "2                             Heikkinen, Miss. Laina  female  26.0      0   \n",
       "3       Futrelle, Mrs. Jacques Heath (Lily May Peel)  female  35.0      1   \n",
       "4                           Allen, Mr. William Henry    male  35.0      0   \n",
       "\n",
       "   Parch            Ticket     Fare Cabin Embarked  \n",
       "0      0         A/5 21171   7.2500   NaN        S  \n",
       "1      0          PC 17599  71.2833   C85        C  \n",
       "2      0  STON/O2. 3101282   7.9250   NaN        S  \n",
       "3      0            113803  53.1000  C123        S  \n",
       "4      0            373450   8.0500   NaN        S  "
      ]
     },
     "execution_count": 22,
     "metadata": {},
     "output_type": "execute_result"
    }
   ],
   "source": [
    "titanic = pd.read_csv(\"./data/titanic.csv\")\n",
    "titanic.head()"
   ]
  },
  {
   "cell_type": "markdown",
   "metadata": {},
   "source": [
    "Видим, что датасет корректно загружен"
   ]
  },
  {
   "cell_type": "markdown",
   "metadata": {},
   "source": [
    "### Задание 2"
   ]
  },
  {
   "cell_type": "markdown",
   "metadata": {},
   "source": [
    "2) Проверьте наличие пропущенных значений и проанализируйте, в каких переменных они присутствуют."
   ]
  },
  {
   "cell_type": "code",
   "execution_count": 23,
   "metadata": {},
   "outputs": [
    {
     "name": "stdout",
     "output_type": "stream",
     "text": [
      "Число отсутствующих значений: \n",
      "\n"
     ]
    },
    {
     "data": {
      "text/plain": [
       "PassengerId      0\n",
       "Survived         0\n",
       "Pclass           0\n",
       "Name             0\n",
       "Sex              0\n",
       "Age            177\n",
       "SibSp            0\n",
       "Parch            0\n",
       "Ticket           0\n",
       "Fare             0\n",
       "Cabin          687\n",
       "Embarked         2\n",
       "dtype: int64"
      ]
     },
     "execution_count": 23,
     "metadata": {},
     "output_type": "execute_result"
    }
   ],
   "source": [
    "print(\"Число отсутствующих значений: \\n\")\n",
    "titanic.isnull().sum()"
   ]
  },
  {
   "cell_type": "markdown",
   "metadata": {},
   "source": [
    "Видно, есть немного людей, возраст которых неизвестен (Age). У многих людей неизвестна каюта (Cabin), но при этом известен класс (Pclass). Есть два пропуска признака  порт (Embarked).\n",
    "\n",
    "Можно сделать вывод, что пропуски носят случайный характер"
   ]
  },
  {
   "cell_type": "markdown",
   "metadata": {},
   "source": [
    "### Задание 3"
   ]
  },
  {
   "cell_type": "markdown",
   "metadata": {},
   "source": [
    "3) Проведите анализ выживаемости по полу, возрасту, классу билета и другим факторам, которые кажутся интересными."
   ]
  },
  {
   "cell_type": "code",
   "execution_count": 24,
   "metadata": {},
   "outputs": [],
   "source": [
    "titanic[\"Sex\"] = titanic[\"Sex\"].apply(lambda x: int(x == \"male\")) # Кодирование значений\n",
    "del titanic[\"PassengerId\"]"
   ]
  },
  {
   "cell_type": "code",
   "execution_count": 18,
   "metadata": {},
   "outputs": [
    {
     "data": {
      "text/plain": [
       "<Axes: title={'center': 'Тепловая карта корреляции'}>"
      ]
     },
     "execution_count": 18,
     "metadata": {},
     "output_type": "execute_result"
    },
    {
     "data": {
      "image/png": "[encoded data removed]",
      "text/plain": [
       "<Figure size 1000x800 with 2 Axes>"
      ]
     },
     "metadata": {},
     "output_type": "display_data"
    }
   ],
   "source": [
    "cov_matrix = titanic.loc[:,[\"Pclass\", \"Sex\", \"Age\", \"Fare\", \"Survived\"]].corr()\n",
    "plt.figure(figsize=(10, 8))\n",
    "plt.title(\"Тепловая карта корреляции\", fontsize=16)\n",
    "sns.heatmap(cov_matrix, annot=True, fmt=\".2f\", cmap='icefire', square=True)"
   ]
  },
  {
   "cell_type": "markdown",
   "metadata": {},
   "source": [
    "Судя по диаграмме можно предположить, что признак пола немного коррелирует с выживаемостью - женщин вижило больше, однако, стоит учитывать, что мужчин в целом на корабле было больше. Чтобы получить более содержательную оценку, можно посчитать относительный процент выживаемость по каждой категории."
   ]
  },
  {
   "cell_type": "code",
   "execution_count": 71,
   "metadata": {},
   "outputs": [
    {
     "name": "stdout",
     "output_type": "stream",
     "text": [
      "Относительная выживаемость в разрезе пола\n",
      "    SurvivedProcent\n",
      "Sex                \n",
      "0               74%\n",
      "1               19%\n",
      "\n",
      "Относительная выживаемость в разрезе класса каюты\n",
      "       SurvivedProcent\n",
      "Pclass                \n",
      "1                  63%\n",
      "2                  47%\n",
      "3                  24%\n",
      "\n",
      "Относительная выживаемость в разрезе возраста\n",
      "        SurvivedProcent\n",
      "AgeBins                \n",
      "0-13                59%\n",
      "13-27               35%\n",
      "27-40               43%\n",
      "40-53               40%\n",
      "53-66               35%\n",
      "66-80                0%\n",
      "80-93              100%\n",
      "nan-nan             29%\n",
      "\n"
     ]
    }
   ],
   "source": [
    "survived_group = titanic.groupby([\"Sex\"]).agg(\n",
    "    SurvivedProcent=('Survived', 'mean')\n",
    ")\n",
    "survived_group[\"SurvivedProcent\"] = survived_group[\"SurvivedProcent\"].apply(lambda x: f\"{round(100*x)}%\")\n",
    "print(\"Относительная выживаемость в разрезе пола\")\n",
    "print(survived_group)\n",
    "print()\n",
    "\n",
    "survived_group = titanic.groupby([\"Pclass\"]).agg(\n",
    "    SurvivedProcent=('Survived', 'mean')\n",
    ")\n",
    "survived_group[\"SurvivedProcent\"] = survived_group[\"SurvivedProcent\"].apply(lambda x: f\"{round(100*x)}%\")\n",
    "print(\"Относительная выживаемость в разрезе класса каюты\")\n",
    "print(survived_group)\n",
    "print()\n",
    "\n",
    "bins = 6\n",
    "max_age = titanic[\"Age\"].max()\n",
    "min_age = titanic[\"Age\"].min()\n",
    "k = (max_age - min_age)/bins # разбиваем возраст на категории\n",
    "\n",
    "titanic[\"AgeBins\"] = titanic[\"Age\"].apply(lambda x: f\"{(x//k)*(k):.00f}-{((x//k)+1)*(k):.00f}\") # диапазон возраста\n",
    "survived_group = titanic.groupby([\"AgeBins\"]).agg(\n",
    "    SurvivedProcent=('Survived', 'mean')\n",
    ")\n",
    "survived_group[\"SurvivedProcent\"] = survived_group[\"SurvivedProcent\"].apply(lambda x: f\"{round(100*x)}%\")\n",
    "print(\"Относительная выживаемость в разрезе возраста\")\n",
    "print(survived_group)\n",
    "print()"
   ]
  },
  {
   "cell_type": "markdown",
   "metadata": {},
   "source": [
    "Теперь хорошо видно, что наибольшая вероятность выжить у:  \n",
    "1. женщин,   \n",
    "2. детей в возрасте до 13 лет, \n",
    "3. стариков в возрасте более 80 лет,  \n",
    "4. пассажиров первого класса."
   ]
  },
  {
   "cell_type": "code",
   "execution_count": 83,
   "metadata": {},
   "outputs": [
    {
     "name": "stdout",
     "output_type": "stream",
     "text": [
      "Относительная выживаемость в разрезе порта посадки\n",
      "         SurvivedProcent\n",
      "Embarked                \n",
      "C                    55%\n",
      "Q                    39%\n",
      "S                    34%\n",
      "\n",
      "Относительная выживаемость в разрезе количества братьев\\сестёр на борту\n",
      "      SurvivedProcent\n",
      "SibSp                \n",
      "0                 35%\n",
      "1                 54%\n",
      "2                 46%\n",
      "3                 25%\n",
      "4                 17%\n",
      "5                  0%\n",
      "8                  0%\n",
      "\n"
     ]
    }
   ],
   "source": [
    "survived_group = titanic.groupby([\"Embarked\"]).agg(\n",
    "    SurvivedProcent=('Survived', 'mean')\n",
    ")\n",
    "survived_group[\"SurvivedProcent\"] = survived_group[\"SurvivedProcent\"].apply(lambda x: f\"{round(100*x)}%\")\n",
    "print(\"Относительная выживаемость в разрезе порта посадки\")\n",
    "print(survived_group)\n",
    "print()\n",
    "\n",
    "survived_group = titanic.groupby([\"SibSp\"]).agg(\n",
    "    SurvivedProcent=('Survived', 'mean')\n",
    ")\n",
    "survived_group[\"SurvivedProcent\"] = survived_group[\"SurvivedProcent\"].apply(lambda x: f\"{round(100*x)}%\")\n",
    "print(\"Относительная выживаемость в разрезе количества братьев\\сестёр на борту\")\n",
    "print(survived_group)\n",
    "print()"
   ]
  },
  {
   "cell_type": "markdown",
   "metadata": {},
   "source": [
    "Большиий процент выжило среди тех, кто сел в порте С. Также больше вероятность выжить, если у вас есть 1-2 брата и (или) сестры на борту."
   ]
  },
  {
   "cell_type": "markdown",
   "metadata": {},
   "source": [
    "### Задание 4"
   ]
  },
  {
   "cell_type": "markdown",
   "metadata": {},
   "source": [
    "4) Разделите данные на признаки и целевую переменную, а затем на обучающую и тестовую выборки (80% на 20%)."
   ]
  },
  {
   "cell_type": "code",
   "execution_count": 89,
   "metadata": {},
   "outputs": [],
   "source": [
    "X = titanic[['Sex', 'Age', 'Fare']]\n",
    "y = titanic['Survived']\n",
    "\n",
    "X_train, X_test, y_train, y_test = train_test_split(X, y, test_size=0.2, random_state=7)"
   ]
  },
  {
   "cell_type": "markdown",
   "metadata": {},
   "source": [
    "Разбили данные в соотношении 20\\80"
   ]
  },
  {
   "cell_type": "markdown",
   "metadata": {},
   "source": [
    "### Задание 5"
   ]
  },
  {
   "cell_type": "markdown",
   "metadata": {},
   "source": [
    "5) Постройте модель дерева решений (DecisionTreeClassifier) для предсказания выживаемости пассажиров на основе признаков: пол, возраст, стоимость билета."
   ]
  },
  {
   "cell_type": "code",
   "execution_count": 91,
   "metadata": {},
   "outputs": [
    {
     "name": "stdout",
     "output_type": "stream",
     "text": [
      "Лучшие параметры: {'criterion': 'entropy', 'max_depth': 5, 'max_features': 'sqrt', 'min_samples_leaf': 2, 'min_samples_split': 10}\n"
     ]
    }
   ],
   "source": [
    "\n",
    "dt = DecisionTreeClassifier()\n",
    "\n",
    "param_grid = {\n",
    "    'criterion': ['gini', 'entropy'],\n",
    "    'max_depth': [None, 5, 10, 15, 20],\n",
    "    'min_samples_split': [2, 5, 10],\n",
    "    'min_samples_leaf': [1, 2, 4],\n",
    "    'max_features': [None, 'sqrt', 'log2']\n",
    "}\n",
    "\n",
    "grid_search = GridSearchCV(estimator=dt, param_grid=param_grid, cv=5, n_jobs=-1)\n",
    "\n",
    "grid_search.fit(X_train, y_train)\n",
    "model = grid_search.best_estimator_\n",
    "print(\"Лучшие параметры:\", grid_search.best_params_)"
   ]
  },
  {
   "cell_type": "markdown",
   "metadata": {},
   "source": [
    "Обучил дереья и выполнил поиск оптимальных гиперпараметров по сетке"
   ]
  },
  {
   "cell_type": "markdown",
   "metadata": {},
   "source": [
    "### Задание 6"
   ]
  },
  {
   "cell_type": "markdown",
   "metadata": {},
   "source": [
    "6) Оцените модель с помощью метрик: accuracy, precision, recall, F1-score. Постройте матрицу ошибок."
   ]
  },
  {
   "cell_type": "code",
   "execution_count": 96,
   "metadata": {},
   "outputs": [
    {
     "name": "stdout",
     "output_type": "stream",
     "text": [
      "Accuracy: 0.72\n",
      "Precision: 0.66\n",
      "Recall: 0.57\n",
      "F1-score: 0.61\n"
     ]
    },
    {
     "data": {
      "image/png": "[encoded data removed]",
      "text/plain": [
       "<Figure size 640x480 with 2 Axes>"
      ]
     },
     "metadata": {},
     "output_type": "display_data"
    }
   ],
   "source": [
    "y_pred = model.predict(X_test)\n",
    "\n",
    "print(f\"Accuracy: {accuracy_score(y_test, y_pred):.02f}\")\n",
    "print(f\"Precision: {precision_score(y_test, y_pred):.02f}\")\n",
    "print(f\"Recall: {recall_score(y_test, y_pred):.02f}\")\n",
    "print(f\"F1-score: {f1_score(y_test, y_pred):.02f}\")\n",
    "\n",
    "disp = ConfusionMatrixDisplay(confusion_matrix=confusion_matrix(y_test, y_pred))\n",
    "disp.plot(cmap=plt.cm.Blues)\n",
    "plt.title(\"Матрица ошибок\")\n",
    "plt.show()\n"
   ]
  },
  {
   "cell_type": "markdown",
   "metadata": {},
   "source": [
    "Метрики получились не самые лучшие, что говорит о низкой обобщающей способности модели. Такая модель немного лучше константной. "
   ]
  }
 ],
 "metadata": {
  "kernelspec": {
   "display_name": "Python 3",
   "language": "python",
   "name": "python3"
  },
  "language_info": {
   "codemirror_mode": {
    "name": "ipython",
    "version": 3
   },
   "file_extension": ".py",
   "mimetype": "text/x-python",
   "name": "python",
   "nbconvert_exporter": "python",
   "pygments_lexer": "ipython3",
   "version": "3.12.6"
  }
 },
 "nbformat": 4,
 "nbformat_minor": 2
}
