{
 "cells": [
  {
   "cell_type": "markdown",
   "id": "f05b366b-b7fa-4e1b-8a85-b15a4a7ad458",
   "metadata": {},
   "source": [
    "# Введение\n",
    "\n",
    "Здравствуйте, коллеги! Добро пожаловать на восьмой вебинар, посвященный работе с Git и инструментами для управления экспериментами в области машинного обучения. Сегодня мы рассмотрим:\n",
    "\n",
    "Инструменты для проведения и оценки результатов экспериментов.\n",
    "Data Version Control (DVC): надстройка над Git и примеры версионирования датасетов.\n",
    "Логирование экспериментов с помощью DVC.\n",
    "Автоматизация пайплайнов с DVC.\n",
    "MLflow и жизненный цикл ML-модели.\n",
    "Компоненты MLflow: Tracking, Projects, Models, Registry.\n",
    "\n",
    "Инструменты для проведения и оценки результатов экспериментов\n",
    "\n",
    "При разработке моделей машинного обучения важно обеспечивать воспроизводимость и управляемость экспериментов. Необходимо отслеживать изменения в коде, данных, параметрах модели и метриках. Для этого используются следующие инструменты:\n",
    "\n",
    "Git: система контроля версий для кода.\n",
    "DVC: расширение Git для управления данными и моделями.\n",
    "MLflow: платформа для управления жизненным циклом ML-моделей.\n",
    "\n",
    "Data Version Control (DVC)\n",
    "\n",
    "## Что такое DVC?\n",
    "\n",
    "DVC — это система управления версиями данных и моделей, которая интегрируется с Git. Она позволяет:\n",
    "\n",
    "Отслеживать большие файлы данных и модели.\n",
    "Управлять зависимостями и воспроизводить эксперименты.\n",
    "Хранить метаданные в Git, а сами данные — в удаленном хранилище.\n",
    "\n",
    "Установка и инициализация DVC\n",
    "\n",
    "Установка DVC:\n",
    "pip install dvc\n",
    "Инициализация DVC в репозитории:"
   ]
  },
  {
   "cell_type": "markdown",
   "id": "24e1584a-6394-4483-802c-18459789b86b",
   "metadata": {},
   "source": [
    "git init\n",
    "dvc init\n",
    "git commit -m \"Initialize DVC\""
   ]
  },
  {
   "cell_type": "markdown",
   "id": "8ca5bde9-79f5-43e6-9db8-f372ace11f9f",
   "metadata": {},
   "source": [
    "Версионирование датасетов с DVC\n",
    "\n",
    "1. Добавление датасета под управление DVC:\n",
    "- dvc add data/raw/data.csv\n",
    "- Команда создаст файл data/raw/data.csv.dvc и добавит data.csv в .gitignore.\n",
    "2. Коммит изменений:"
   ]
  },
  {
   "cell_type": "code",
   "execution_count": 1,
   "id": "e44f22bb-4222-42f7-8939-dae43777f042",
   "metadata": {},
   "outputs": [],
   "source": [
    "#git add data/raw/data.csv.dvc .gitignore\n",
    "#git commit -m \"Add raw data\""
   ]
  },
  {
   "cell_type": "markdown",
   "id": "5bef2fb6-dc64-4604-b96f-ea5292acc645",
   "metadata": {},
   "source": [
    "3. Настройка удаленного хранилища для данных:\n"
   ]
  },
  {
   "cell_type": "code",
   "execution_count": 2,
   "id": "931535f1-d086-4989-974b-22d1c316fa23",
   "metadata": {},
   "outputs": [],
   "source": [
    "#dvc remote add -d myremote s3://mybucket/dvcstore\n",
    "#git commit .dvc/config -m \"Configure remote storage\""
   ]
  },
  {
   "cell_type": "markdown",
   "id": "6ceaa518-8615-41ff-852f-b7db4b82a684",
   "metadata": {},
   "source": [
    "4. Отправка данных в удаленное хранилище:\n",
    "dvc push"
   ]
  },
  {
   "cell_type": "markdown",
   "id": "2f5334d1-d0c5-428e-a6ad-8165505ce3dc",
   "metadata": {},
   "source": [
    "Извлечение данных из репозитория\n",
    "\n",
    "При клонировании репозитория можно загрузить данные:\n"
   ]
  },
  {
   "cell_type": "code",
   "execution_count": 3,
   "id": "cd3184a5-f219-4e86-afb7-40d8886ec1fd",
   "metadata": {},
   "outputs": [],
   "source": [
    "#git clone https://github.com/user/repo.git\n",
    "#dvc pull"
   ]
  },
  {
   "cell_type": "markdown",
   "id": "1de49a2c-0b49-4bf5-9c80-3b387647b00c",
   "metadata": {},
   "source": [
    "## DVC Логирование экспериментов\n",
    "\n",
    "DVC позволяет вести журнал экспериментов и сравнивать результаты.\n",
    "\n",
    "Запуск и логирование экспериментов\n",
    "\n",
    "Создание DVC-пайплайна:"
   ]
  },
  {
   "cell_type": "code",
   "execution_count": 4,
   "id": "8794767d-0530-4ecc-8e09-c004f4eac2f9",
   "metadata": {},
   "outputs": [],
   "source": [
    "#dvc run -n preprocess \\\n",
    "#    -d src/preprocess.py -d data/raw/data.csv \\\n",
    "#    -o data/processed/data_processed.csv \\\n",
    "#    python src/preprocess.py"
   ]
  },
  {
   "cell_type": "markdown",
   "id": "b9b76b8c-b944-4096-acc4-e25edd7579d0",
   "metadata": {},
   "source": [
    "Обучение модели:"
   ]
  },
  {
   "cell_type": "code",
   "execution_count": 5,
   "id": "0a55b08a-8cb0-453e-8682-6e0212f35ab4",
   "metadata": {},
   "outputs": [],
   "source": [
    "#dvc run -n train \\\n",
    "#    -d src/train.py -d data/processed/data_processed.csv \\\n",
    "#    -o models/model.pkl \\\n",
    "#    -M metrics/metrics.json \\\n",
    "#    python src/train.py"
   ]
  },
  {
   "cell_type": "markdown",
   "id": "b8d0ae00-3eda-4a2c-83ae-d6bff0ea02b8",
   "metadata": {},
   "source": [
    "Здесь -M указывает на файл с метриками, который будет отслеживаться DVC."
   ]
  },
  {
   "cell_type": "markdown",
   "id": "9dc281eb-ee43-4eaf-92e1-a40d3aea79d8",
   "metadata": {},
   "source": [
    "Просмотр и сравнение метрик\n",
    "\n",
    "1. Просмотр метрик последнего эксперимента:\n",
    "dvc metrics show\n",
    "2. Сравнение метрик между разными коммитами:\n",
    "dvc metrics diff HEAD~1"
   ]
  },
  {
   "cell_type": "markdown",
   "id": "4e468f9f-3f69-4f08-8710-0bafff1f391e",
   "metadata": {},
   "source": [
    "## DVC Автоматизация пайплайнов\n",
    "\n",
    "Создание полного пайплайна\n",
    "\n",
    "DVC позволяет описать весь процесс от обработки данных до обучения модели.\n"
   ]
  },
  {
   "cell_type": "code",
   "execution_count": 6,
   "id": "2afa5b65-e808-41fc-81e2-de45c583d731",
   "metadata": {},
   "outputs": [],
   "source": [
    "#dvc run -n evaluate \\\n",
    "#    -d src/evaluate.py -d models/model.pkl -d data/test \\\n",
    "#    -M metrics/eval.json \\\n",
    "#    python src/evaluate.py"
   ]
  },
  {
   "cell_type": "markdown",
   "id": "2ddb8d6b-90d4-43da-8040-47f83846a1de",
   "metadata": {},
   "source": [
    "Визуализация пайплайна"
   ]
  },
  {
   "cell_type": "markdown",
   "id": "5a646db1-c1d1-4b08-8fe9-97e76002036f",
   "metadata": {},
   "source": [
    "dvc dag\n",
    "\n",
    "Эта команда отобразит DAG (Directed Acyclic Graph) ваших этапов.\n",
    "\n",
    "Запуск пайплайна при изменениях\n",
    "\n",
    "Если изменились исходные данные или код, можно воспроизвести весь пайплайн:\n",
    "\n",
    "dvc repro"
   ]
  },
  {
   "cell_type": "markdown",
   "id": "826fa6b2-e223-408c-81da-3832bb045432",
   "metadata": {},
   "source": [
    "## MLflow: Жизненный цикл ML-модели\n",
    "\n",
    "MLflow предоставляет инструменты для управления экспериментами, воспроизводимости и деплоя моделей.\n",
    "\n",
    "Компоненты MLflow:\n",
    "\n",
    "MLflow Tracking: логирование параметров, метрик и артефактов экспериментов.\n",
    "MLflow Projects: упаковка кода в формат, удобный для воспроизводимости.\n",
    "MLflow Models: стандарт для сохранения и развертывания моделей.\n",
    "MLflow Registry: хранение и управление версиями моделей.\n",
    "\n",
    "MLflow Tracking\n",
    "\n",
    "Установка MLflow\n",
    "\n",
    "pip install mlflow\n",
    "\n",
    "Логирование экспериментов\n"
   ]
  },
  {
   "cell_type": "code",
   "execution_count": 8,
   "id": "dc0db410-170a-498c-a0ef-9ae610c646a8",
   "metadata": {},
   "outputs": [
    {
     "ename": "NameError",
     "evalue": "name 'X_train' is not defined",
     "output_type": "error",
     "traceback": [
      "\u001b[0;31m---------------------------------------------------------------------------\u001b[0m",
      "\u001b[0;31mNameError\u001b[0m                                 Traceback (most recent call last)",
      "Cell \u001b[0;32mIn[8], line 13\u001b[0m\n\u001b[1;32m     11\u001b[0m \u001b[38;5;66;03m# Обучение модели\u001b[39;00m\n\u001b[1;32m     12\u001b[0m model \u001b[38;5;241m=\u001b[39m RandomForestRegressor(\u001b[38;5;241m*\u001b[39m\u001b[38;5;241m*\u001b[39mparams)\n\u001b[0;32m---> 13\u001b[0m model\u001b[38;5;241m.\u001b[39mfit(\u001b[43mX_train\u001b[49m, y_train)\n\u001b[1;32m     15\u001b[0m \u001b[38;5;66;03m# Оценка метрик\u001b[39;00m\n\u001b[1;32m     16\u001b[0m rmse \u001b[38;5;241m=\u001b[39m evaluate(model, X_test, y_test)\n",
      "\u001b[0;31mNameError\u001b[0m: name 'X_train' is not defined"
     ]
    }
   ],
   "source": [
    "import mlflow\n",
    "import mlflow.sklearn\n",
    "from sklearn.ensemble import RandomForestRegressor\n",
    "\n",
    "# Начало нового эксперимента\n",
    "with mlflow.start_run():\n",
    "    # Параметры модели\n",
    "    params = {\"n_estimators\": 100, \"max_depth\": 5}\n",
    "    mlflow.log_params(params)\n",
    "    \n",
    "    # Обучение модели\n",
    "    model = RandomForestRegressor(**params)\n",
    "    model.fit(X_train, y_train)\n",
    "    \n",
    "    # Оценка метрик\n",
    "    rmse = evaluate(model, X_test, y_test)\n",
    "    mlflow.log_metric(\"rmse\", rmse)\n",
    "    \n",
    "    # Сохранение модели\n",
    "    mlflow.sklearn.log_model(model, \"random_forest_model\")"
   ]
  },
  {
   "cell_type": "markdown",
   "id": "acbfa63d-64d3-4507-8b56-dc885819b8fe",
   "metadata": {},
   "source": [
    "## Запуск MLflow UI\n",
    "\n",
    "mlflow ui\n",
    "\n",
    "После запуска интерфейс будет доступен по адресу http://localhost:5000.\n",
    "\n",
    "MLflow Projects\n",
    "\n",
    "Структура проекта\n",
    "\n",
    "1. Создание файла MLproject:"
   ]
  },
  {
   "cell_type": "markdown",
   "id": "a6209300-154b-4ebe-92bf-a5084f9cfbe4",
   "metadata": {},
   "source": [
    "name: RandomForestProject\n",
    "\n",
    "conda_env: conda.yaml\n",
    "\n",
    "entry_points:\n",
    "  main:\n",
    "    parameters:\n",
    "      n_estimators: {type: int, default: 100}\n",
    "      max_depth: {type: int, default: 5}\n",
    "    command: \"python train.py --n_estimators {n_estimators} --max_depth {max_depth}\""
   ]
  },
  {
   "cell_type": "markdown",
   "id": "1e64a89f-508e-4fa0-9cd7-12c754a0da5b",
   "metadata": {},
   "source": [
    "2. Создание файла conda.yaml:"
   ]
  },
  {
   "cell_type": "markdown",
   "id": "0622e99f-2c3c-4482-b8f6-a5f69adb1184",
   "metadata": {},
   "source": [
    "name: mlflow_env\n",
    "channels:\n",
    "  - defaults\n",
    "dependencies:\n",
    "  - python=3.8\n",
    "  - scikit-learn\n",
    "  - pip\n",
    "  - pip:\n",
    "    - mlflow"
   ]
  },
  {
   "cell_type": "markdown",
   "id": "9ca4148c-0e2b-4c43-a49f-9f1b6ec0a5bb",
   "metadata": {},
   "source": [
    "Запуск проекта с разными параметрами"
   ]
  },
  {
   "cell_type": "markdown",
   "id": "112629bd-7ea8-4260-91b4-1723f4ae03a6",
   "metadata": {},
   "source": [
    "mlflow run . -P n_estimators=200 -P max_depth=7\n",
    "\n",
    "MLflow Models\n",
    "\n",
    "Сохранение модели в формате MLflow\n",
    "\n",
    "mlflow.sklearn.log_model(model, artifact_path=\"models\")\n",
    "\n",
    "Развертывание модели\n",
    "\n",
    "MLflow поддерживает развертывание моделей с использованием различных фреймворков.\n",
    "\n",
    "Пример развертывания модели как REST API:\n",
    "\n",
    "mlflow models serve -m runs:/<run_id>/models --port 1234\n",
    "\n",
    "Теперь можно делать запросы к модели через HTTP.\n",
    "\n",
    "MLflow Registry\n",
    "\n",
    "Регистрация модели"
   ]
  },
  {
   "cell_type": "code",
   "execution_count": null,
   "id": "c8df173a-7f27-4a0b-9add-07189f2184ce",
   "metadata": {},
   "outputs": [],
   "source": [
    "result = mlflow.register_model(\n",
    "    model_uri=\"runs:/<run_id>/models\",\n",
    "    name=\"RandomForestModel\"\n",
    ")"
   ]
  },
  {
   "cell_type": "markdown",
   "id": "a2087faa-91b8-4044-b788-75f35831108a",
   "metadata": {},
   "source": [
    "Управление версиями и стадиями модели"
   ]
  },
  {
   "cell_type": "code",
   "execution_count": null,
   "id": "10220772-7d71-4a89-bd8e-df031ebf7749",
   "metadata": {},
   "outputs": [],
   "source": [
    "from mlflow.tracking import MlflowClient\n",
    "\n",
    "client = MlflowClient()\n",
    "client.transition_model_version_stage(\n",
    "    name=\"RandomForestModel\",\n",
    "    version=1,\n",
    "    stage=\"Production\"\n",
    ")"
   ]
  }
 ],
 "metadata": {
  "kernelspec": {
   "display_name": "Python 3 (ipykernel)",
   "language": "python",
   "name": "python3"
  },
  "language_info": {
   "codemirror_mode": {
    "name": "ipython",
    "version": 3
   },
   "file_extension": ".py",
   "mimetype": "text/x-python",
   "name": "python",
   "nbconvert_exporter": "python",
   "pygments_lexer": "ipython3",
   "version": "3.11.8"
  }
 },
 "nbformat": 4,
 "nbformat_minor": 5
}
