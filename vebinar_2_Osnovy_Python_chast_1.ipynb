{
 "cells": [
  {
   "cell_type": "markdown",
   "id": "97a3c212-00bf-44ca-8f1b-c7df2814c6ec",
   "metadata": {},
   "source": [
    "# ВЕБИНАР 2: Основы Python часть 1\n",
    "## Функциональное программирование на Python\n",
    "Функциональное программирование — это парадигма программирования, в которой основным строительным блоком является функция. В Python функции являются объектами первого класса, что означает, что ими можно оперировать как и любыми другими объектами: присваивать переменным, передавать в другие функции, возвращать из функций и т.д.\n",
    "\n",
    "Основные концепции функционального программирования в Python:\n",
    "\n",
    "- Чистые функции: функции, которые не имеют побочных эффектов и всегда возвращают одно и то же значение при одинаковых входных данных.\n",
    "- Лямбда-функции: анонимные функции, используемые для кратких одноразовых действий.\n",
    "- Высшие функции: функции, принимающие другие функции в качестве аргументов или возвращающие функции.\n",
    "- Замыкания: функции, которые сохраняют в своем контексте переменные из области видимости, в которой они были созданы.\n",
    "- Рекурсия: функция, которая вызывает сама себя для решения подзадач."
   ]
  },
  {
   "cell_type": "markdown",
   "id": "eba8c869-00ce-402b-ba31-d56a5be3e2ad",
   "metadata": {},
   "source": [
    "## Функции\n",
    "Функция в Python — это блок кода, который выполняется только тогда, когда он вызывается. Функции помогают разбивать программу на логические части, делают код более понятным и повторно используемым.\n",
    "### Объявление функции"
   ]
  },
  {
   "cell_type": "code",
   "execution_count": 35,
   "id": "4a5b4d89-f43a-45f5-bf7b-6005622bc48e",
   "metadata": {},
   "outputs": [],
   "source": [
    "def имя_функции(параметры):\n",
    "    \"\"\"Строка документации функции\"\"\"\n",
    "    # Тело функции\n",
    "    return результат"
   ]
  },
  {
   "cell_type": "code",
   "execution_count": 36,
   "id": "9cf64b1b-02a6-42aa-9285-f979b6ce8bcd",
   "metadata": {},
   "outputs": [
    {
     "name": "stdout",
     "output_type": "stream",
     "text": [
      "Привет, Алиса!\n"
     ]
    }
   ],
   "source": [
    "def приветствие(name):\n",
    "    \"\"\"Функция для приветствия пользователя\"\"\"\n",
    "    return f\"Привет, {name}!\"\n",
    "\n",
    "# Вызов функции\n",
    "print(приветствие(\"Алиса\"))"
   ]
  },
  {
   "cell_type": "markdown",
   "id": "f961c043-a9ff-4497-b525-f7229e595f92",
   "metadata": {},
   "source": [
    "## Аргументы функции\n",
    "\n",
    "Функции могут принимать данные в виде параметров. Существует несколько типов аргументов в Python:\n",
    "\n",
    "Позиционные аргументы: передаются в том порядке, в котором указаны параметры.\n",
    "Именованные аргументы: передаются с указанием имени параметра.\n",
    "Аргументы со значением по умолчанию: параметры, которым присвоено значение по умолчанию.\n",
    "Неопределенное количество позиционных аргументов: *args.\n",
    "Неопределенное количество именованных аргументов: **kwargs.\n",
    "\n",
    "Примеры:"
   ]
  },
  {
   "cell_type": "code",
   "execution_count": 37,
   "id": "ac494e75-3ebd-4b02-b3e5-54ecca8555d3",
   "metadata": {},
   "outputs": [
    {
     "name": "stdout",
     "output_type": "stream",
     "text": [
      "Имя: Боб\n",
      "Возраст: 25\n",
      "Имя: Ева\n",
      "Возраст: 30\n",
      "Имя: Денис\n",
      "Возраст: 18\n"
     ]
    }
   ],
   "source": [
    "def информация(имя, возраст=18):\n",
    "    print(f\"Имя: {имя}\")\n",
    "    print(f\"Возраст: {возраст}\")\n",
    "\n",
    "# Позиционные аргументы\n",
    "информация(\"Боб\", 25)\n",
    "\n",
    "# Именованные аргументы\n",
    "информация(возраст=30, имя=\"Ева\")\n",
    "\n",
    "# Использование значения по умолчанию\n",
    "информация(\"Денис\")"
   ]
  },
  {
   "cell_type": "code",
   "execution_count": 38,
   "id": "b8db4f7c-0dca-4245-8bd5-548f01b5ff1e",
   "metadata": {},
   "outputs": [],
   "source": [
    "def add_number(list_nubers = []):\n",
    "    list_nubers.append(1)\n",
    "    print(list_nubers)"
   ]
  },
  {
   "cell_type": "code",
   "execution_count": 39,
   "id": "59c39a41-a81c-4b79-8418-637c6a6c2015",
   "metadata": {},
   "outputs": [
    {
     "name": "stdout",
     "output_type": "stream",
     "text": [
      "[1]\n",
      "[1, 1]\n",
      "[1, 1, 1]\n",
      "[1, 1, 1, 1]\n"
     ]
    }
   ],
   "source": [
    "for _ in range(3):\n",
    "    add_number()\n",
    "\n",
    "add_number()"
   ]
  },
  {
   "cell_type": "code",
   "execution_count": 48,
   "id": "f6d03071-969d-40c2-b932-2532c5401518",
   "metadata": {},
   "outputs": [],
   "source": []
  },
  {
   "cell_type": "code",
   "execution_count": null,
   "id": "417f4466-03d8-4f50-a44f-6896305b4258",
   "metadata": {},
   "outputs": [],
   "source": []
  },
  {
   "cell_type": "code",
   "execution_count": 40,
   "id": "7fd38603-c5f9-462d-b6ff-098d07b48548",
   "metadata": {},
   "outputs": [],
   "source": [
    "x = []"
   ]
  },
  {
   "cell_type": "code",
   "execution_count": 41,
   "id": "cc7164b7-788c-469c-b804-51b010cfbcb0",
   "metadata": {},
   "outputs": [
    {
     "data": {
      "text/plain": [
       "[]"
      ]
     },
     "execution_count": 41,
     "metadata": {},
     "output_type": "execute_result"
    }
   ],
   "source": [
    "x"
   ]
  },
  {
   "cell_type": "code",
   "execution_count": 42,
   "id": "72c4a2d9-a751-457f-bec5-440725d935d4",
   "metadata": {},
   "outputs": [],
   "source": [
    "y = []"
   ]
  },
  {
   "cell_type": "code",
   "execution_count": 43,
   "id": "b6b537bd-90bb-48e4-bb6f-4e54922f9e12",
   "metadata": {},
   "outputs": [
    {
     "data": {
      "text/plain": [
       "True"
      ]
     },
     "execution_count": 43,
     "metadata": {},
     "output_type": "execute_result"
    }
   ],
   "source": [
    "x==y"
   ]
  },
  {
   "cell_type": "code",
   "execution_count": 44,
   "id": "c73fe8e2-dddd-4508-b44d-e432bb4e3e3e",
   "metadata": {},
   "outputs": [
    {
     "data": {
      "text/plain": [
       "4696721856"
      ]
     },
     "execution_count": 44,
     "metadata": {},
     "output_type": "execute_result"
    }
   ],
   "source": [
    "id(x)"
   ]
  },
  {
   "cell_type": "code",
   "execution_count": 45,
   "id": "2494b49d-dc8d-43e1-a1cd-536cdc3f02bd",
   "metadata": {},
   "outputs": [
    {
     "data": {
      "text/plain": [
       "4583837312"
      ]
     },
     "execution_count": 45,
     "metadata": {},
     "output_type": "execute_result"
    }
   ],
   "source": [
    "id(y)"
   ]
  },
  {
   "cell_type": "code",
   "execution_count": 52,
   "id": "cb1be1a1-319f-440e-8d02-0ba6294a5251",
   "metadata": {},
   "outputs": [
    {
     "name": "stdout",
     "output_type": "stream",
     "text": [
      "1\n",
      "3\n",
      "6\n",
      "10\n",
      "15\n",
      "23\n",
      "23\n"
     ]
    }
   ],
   "source": [
    "def сумма(*числа):\n",
    "    результат = 0\n",
    "    for число in числа:\n",
    "        результат += число\n",
    "        print(результат)\n",
    "    return результат\n",
    "\n",
    "print(сумма(1, 2, 3, 4, 5, 8))"
   ]
  },
  {
   "cell_type": "markdown",
   "id": "7f97b69c-2c43-49f3-9370-a85a24868a60",
   "metadata": {},
   "source": [
    "## Lambda-функции\n",
    "\n",
    "Lambda-функции или анонимные функции — это небольшие одноразовые функции, которые определяются с помощью ключевого слова lambda.\n",
    "\n",
    "Синтаксис:\n",
    "\n",
    "lambda аргументы: выражение\n",
    "\n",
    "Пример использования:"
   ]
  },
  {
   "cell_type": "code",
   "execution_count": 53,
   "id": "e93bde8c-09cf-4ebb-8db7-df32078d4cdc",
   "metadata": {},
   "outputs": [
    {
     "name": "stdout",
     "output_type": "stream",
     "text": [
      "10\n",
      "10\n"
     ]
    }
   ],
   "source": [
    "# Обычная функция\n",
    "def удвоить(x):\n",
    "    return x * 2\n",
    "\n",
    "print(удвоить(5))\n",
    "\n",
    "# Lambda-функция\n",
    "удвоить_lambda = lambda x: x * 2\n",
    "print(удвоить_lambda(5))"
   ]
  },
  {
   "cell_type": "markdown",
   "id": "42a73bdb-8650-4d38-83f5-7719d5410337",
   "metadata": {},
   "source": [
    "Lambda-функции часто используются вместе с функциями высшего порядка, такими как map(), filter() и sorted().\n",
    "\n",
    "Пример с map():\n"
   ]
  },
  {
   "cell_type": "code",
   "execution_count": 54,
   "id": "d305416b-43f7-4caa-ac57-9ff8f9fadd13",
   "metadata": {},
   "outputs": [
    {
     "name": "stdout",
     "output_type": "stream",
     "text": [
      "[1, 4, 9, 16, 25]\n"
     ]
    }
   ],
   "source": [
    "числа = [1, 2, 3, 4, 5]\n",
    "квадраты = list(map(lambda x: x ** 2, числа))\n",
    "print(квадраты)"
   ]
  },
  {
   "cell_type": "markdown",
   "id": "7c269e2b-8771-47b9-9ce5-515413e0a111",
   "metadata": {},
   "source": [
    "Генераторы\n",
    "\n",
    "Генераторы — это функции, которые возвращают итератор и позволяют перебирать огромное количество значений без хранения их всех в памяти. Используют ключевое слово yield.\n",
    "\n",
    "Пример генератора:"
   ]
  },
  {
   "cell_type": "code",
   "execution_count": 55,
   "id": "243b361a-acd9-4e52-a0b6-7b98f35f6dce",
   "metadata": {},
   "outputs": [
    {
     "name": "stdout",
     "output_type": "stream",
     "text": [
      "0\n",
      "1\n",
      "2\n",
      "3\n",
      "4\n"
     ]
    }
   ],
   "source": [
    "def счетчик(макс):\n",
    "    n = 0\n",
    "    while n < макс:\n",
    "        yield n\n",
    "        n += 1\n",
    "\n",
    "for число in счетчик(5):\n",
    "    print(число)"
   ]
  },
  {
   "cell_type": "markdown",
   "id": "ae9d7b57-68a0-4bb5-a9fb-8eff9f778a19",
   "metadata": {},
   "source": [
    "Генераторное выражение\n",
    "\n",
    "Аналогично списковому включению, но создаёт генератор."
   ]
  },
  {
   "cell_type": "code",
   "execution_count": 56,
   "id": "aee5c2c8-2770-49d4-9760-5c858757779f",
   "metadata": {},
   "outputs": [
    {
     "name": "stdout",
     "output_type": "stream",
     "text": [
      "0\n",
      "1\n",
      "4\n"
     ]
    }
   ],
   "source": [
    "ген = (x ** 2 for x in range(5))\n",
    "print(next(ген))  # 0\n",
    "print(next(ген))  # 1\n",
    "print(next(ген))  # 4"
   ]
  },
  {
   "cell_type": "code",
   "execution_count": 60,
   "id": "139dbe34-5090-4e45-85b4-9b46ad7ab7c2",
   "metadata": {},
   "outputs": [
    {
     "ename": "StopIteration",
     "evalue": "",
     "output_type": "error",
     "traceback": [
      "\u001b[0;31m---------------------------------------------------------------------------\u001b[0m",
      "\u001b[0;31mStopIteration\u001b[0m                             Traceback (most recent call last)",
      "Cell \u001b[0;32mIn[60], line 1\u001b[0m\n\u001b[0;32m----> 1\u001b[0m \u001b[38;5;28;43mnext\u001b[39;49m\u001b[43m(\u001b[49m\u001b[43mген\u001b[49m\u001b[43m)\u001b[49m\n",
      "\u001b[0;31mStopIteration\u001b[0m: "
     ]
    }
   ],
   "source": [
    "next(ген)"
   ]
  },
  {
   "cell_type": "markdown",
   "id": "97169833-d63c-4053-8611-aba28cea7b80",
   "metadata": {},
   "source": [
    "## Декораторы\n",
    "\n",
    "Декораторы в Python — это функции, которые принимают другую функцию и расширяют ее функциональность без непосредственного изменения ее кода.\n",
    "\n",
    "Создание декоратора"
   ]
  },
  {
   "cell_type": "code",
   "execution_count": 62,
   "id": "5bf058e7-9f12-4e2e-98d1-ae625bf9eb81",
   "metadata": {},
   "outputs": [],
   "source": [
    "import time "
   ]
  },
  {
   "cell_type": "code",
   "execution_count": 63,
   "id": "2d0412da-3371-4c5b-bd69-d0ba9980d85c",
   "metadata": {},
   "outputs": [
    {
     "data": {
      "text/plain": [
       "1728405938.96397"
      ]
     },
     "execution_count": 63,
     "metadata": {},
     "output_type": "execute_result"
    }
   ],
   "source": []
  },
  {
   "cell_type": "code",
   "execution_count": 64,
   "id": "eb5a3e6c-9fbc-4871-94e5-3a5db7735fba",
   "metadata": {},
   "outputs": [
    {
     "name": "stdout",
     "output_type": "stream",
     "text": [
      "До вызова функции\n",
      "Привет, мир!\n",
      "6.198883056640625e-06\n",
      "После вызова функции\n"
     ]
    }
   ],
   "source": [
    "def декоратор(функция):\n",
    "    def обертка(*args, **kwargs):\n",
    "        print(\"До вызова функции\")\n",
    "        start = time.time()\n",
    "        результат = функция(*args, **kwargs)\n",
    "        print(time.time()-start)\n",
    "        print(\"После вызова функции\")\n",
    "        return результат\n",
    "    return обертка\n",
    "\n",
    "@декоратор\n",
    "def привет():\n",
    "    print(\"Привет, мир!\")\n",
    "\n",
    "привет()"
   ]
  },
  {
   "cell_type": "markdown",
   "id": "1475b2f8-c9a8-44aa-8e10-80ef9ea458c9",
   "metadata": {},
   "source": [
    "## Логирование промежуточных вычислений\n",
    "\n",
    "Логирование — процесс записи событий, которые происходят во время работы программы. В Python есть встроенный модуль logging для этого.\n",
    "\n",
    "Пример использования logging:"
   ]
  },
  {
   "cell_type": "code",
   "execution_count": 65,
   "id": "a72709e3-a00b-4773-8ddf-8aeac2fa4d5a",
   "metadata": {},
   "outputs": [
    {
     "name": "stderr",
     "output_type": "stream",
     "text": [
      "INFO:root:Начало вычисления: x=5, y=10\n",
      "INFO:root:Результат вычисления: 15\n"
     ]
    },
    {
     "data": {
      "text/plain": [
       "15"
      ]
     },
     "execution_count": 65,
     "metadata": {},
     "output_type": "execute_result"
    }
   ],
   "source": [
    "import logging\n",
    "\n",
    "# Настройка базового конфигурации логирования\n",
    "logging.basicConfig(level=logging.INFO)\n",
    "\n",
    "def вычисление(x, y):\n",
    "    logging.info(f\"Начало вычисления: x={x}, y={y}\")\n",
    "    результат = x + y\n",
    "    logging.info(f\"Результат вычисления: {результат}\")\n",
    "    return результат\n",
    "\n",
    "вычисление(5, 10)"
   ]
  },
  {
   "cell_type": "markdown",
   "id": "55e70939-111d-4beb-ae91-73954c7f83a8",
   "metadata": {},
   "source": [
    "## Библиотека NumPy, установка\n",
    "\n",
    "NumPy — это фундаментальная библиотека для научных вычислений в Python. Она предоставляет высокопроизводительные многомерные массивы и различные функции для работы с ними.\n",
    "\n",
    "Установка NumPy\n",
    "\n",
    "В терминале или командной строке выполните:\n",
    "\n",
    "pip install numpy\n",
    "\n",
    "\n",
    "Создание массивов, многомерных массивов\n",
    "\n",
    "NumPy предоставляет объект ndarray, который представляет собой многомерный массив фиксированного размера одного типа.\n",
    "\n",
    "Импорт библиотеки\n",
    "\n",
    "import numpy as np\n",
    "\n",
    "Создание массива из списка"
   ]
  },
  {
   "cell_type": "code",
   "execution_count": 66,
   "id": "9f551122-5d47-4f7e-8562-c43136eb89ee",
   "metadata": {},
   "outputs": [
    {
     "name": "stdout",
     "output_type": "stream",
     "text": [
      "Requirement already satisfied: numpy in /Library/Frameworks/Python.framework/Versions/3.11/lib/python3.11/site-packages (1.26.4)\n",
      "\n",
      "\u001b[1m[\u001b[0m\u001b[34;49mnotice\u001b[0m\u001b[1;39;49m]\u001b[0m\u001b[39;49m A new release of pip is available: \u001b[0m\u001b[31;49m24.0\u001b[0m\u001b[39;49m -> \u001b[0m\u001b[32;49m24.2\u001b[0m\n",
      "\u001b[1m[\u001b[0m\u001b[34;49mnotice\u001b[0m\u001b[1;39;49m]\u001b[0m\u001b[39;49m To update, run: \u001b[0m\u001b[32;49mpip3 install --upgrade pip\u001b[0m\n",
      "Note: you may need to restart the kernel to use updated packages.\n"
     ]
    }
   ],
   "source": [
    "pip install numpy"
   ]
  },
  {
   "cell_type": "code",
   "execution_count": 67,
   "id": "cfebbe4d-de36-4b15-87f5-72192a8c6d79",
   "metadata": {},
   "outputs": [],
   "source": [
    "import numpy as np"
   ]
  },
  {
   "cell_type": "code",
   "execution_count": 68,
   "id": "11e2e907-b667-473a-8c57-6df16f041482",
   "metadata": {},
   "outputs": [
    {
     "name": "stdout",
     "output_type": "stream",
     "text": [
      "[1 2 3]\n"
     ]
    }
   ],
   "source": [
    "\n",
    "a = np.array([1, 2, 3])\n",
    "print(a)\n"
   ]
  },
  {
   "cell_type": "code",
   "execution_count": 69,
   "id": "b140678a-467c-41c7-8fb4-a2b016e7b566",
   "metadata": {},
   "outputs": [
    {
     "name": "stdout",
     "output_type": "stream",
     "text": [
      "[[1 2 3]\n",
      " [4 5 6]]\n"
     ]
    }
   ],
   "source": [
    "b = np.array([[1, 2, 3], [4, 5, 6]])\n",
    "print(b)"
   ]
  },
  {
   "cell_type": "markdown",
   "id": "d42c392b-6683-4b60-b301-5e755939b10a",
   "metadata": {},
   "source": [
    "## Доступ к элементам\n",
    "\n",
    "Элементы массива можно получить с помощью индексов, как и в обычных списках Python.\n",
    "\n",
    "Индексация\n"
   ]
  },
  {
   "cell_type": "code",
   "execution_count": 70,
   "id": "eecc8e07-aa6c-4f26-b40a-6d416a4dba0e",
   "metadata": {},
   "outputs": [
    {
     "name": "stdout",
     "output_type": "stream",
     "text": [
      "1\n",
      "6\n"
     ]
    }
   ],
   "source": [
    "print(a[0])    # Первый элемент\n",
    "print(b[1, 2]) # Элемент из второй строки, третий столбец"
   ]
  },
  {
   "cell_type": "markdown",
   "id": "1041284a-60c6-4954-86ea-d40dc060de07",
   "metadata": {},
   "source": [
    "### Срезы"
   ]
  },
  {
   "cell_type": "code",
   "execution_count": 71,
   "id": "1dd82843-efec-4873-84df-5167c6e0c4b3",
   "metadata": {},
   "outputs": [
    {
     "name": "stdout",
     "output_type": "stream",
     "text": [
      "[1 2]\n",
      "[2 5]\n"
     ]
    }
   ],
   "source": [
    "print(a[0:2])      # Элементы с 0 по 1\n",
    "print(b[:, 1])     # Все строки, второй столбец"
   ]
  },
  {
   "cell_type": "markdown",
   "id": "2d31b46f-e0cb-41cb-a432-0a6b868088e7",
   "metadata": {},
   "source": [
    "## Создание специальных массивов\n",
    "\n",
    "NumPy предоставляет функции для создания массивов с определенными свойствами.\n",
    "\n",
    "Нули и единицы"
   ]
  },
  {
   "cell_type": "code",
   "execution_count": 72,
   "id": "c87a955d-3c74-4d72-afeb-83c334eb3e22",
   "metadata": {},
   "outputs": [
    {
     "name": "stdout",
     "output_type": "stream",
     "text": [
      "Нули:\n",
      " [[0. 0. 0.]\n",
      " [0. 0. 0.]]\n",
      "Единицы:\n",
      " [[1. 1.]\n",
      " [1. 1.]\n",
      " [1. 1.]]\n"
     ]
    }
   ],
   "source": [
    "zeros = np.zeros((2, 3))\n",
    "ones = np.ones((3, 2))\n",
    "print(\"Нули:\\n\", zeros)\n",
    "print(\"Единицы:\\n\", ones)"
   ]
  },
  {
   "cell_type": "code",
   "execution_count": 73,
   "id": "e5342442-1dfd-47af-b2eb-14cd94269651",
   "metadata": {},
   "outputs": [],
   "source": [
    "ones = np.ones((3, 2, 4))"
   ]
  },
  {
   "cell_type": "code",
   "execution_count": 74,
   "id": "c1a45e50-d376-4b30-935c-b6b0fe9453e9",
   "metadata": {},
   "outputs": [
    {
     "data": {
      "text/plain": [
       "array([[[1., 1., 1., 1.],\n",
       "        [1., 1., 1., 1.]],\n",
       "\n",
       "       [[1., 1., 1., 1.],\n",
       "        [1., 1., 1., 1.]],\n",
       "\n",
       "       [[1., 1., 1., 1.],\n",
       "        [1., 1., 1., 1.]]])"
      ]
     },
     "execution_count": 74,
     "metadata": {},
     "output_type": "execute_result"
    }
   ],
   "source": [
    "ones"
   ]
  },
  {
   "cell_type": "code",
   "execution_count": 20,
   "id": "b9bc41b5-4710-4f46-8d0a-69a1e9e77feb",
   "metadata": {},
   "outputs": [
    {
     "name": "stdout",
     "output_type": "stream",
     "text": [
      "Единичная матрица:\n",
      " [[1. 0. 0.]\n",
      " [0. 1. 0.]\n",
      " [0. 0. 1.]]\n"
     ]
    }
   ],
   "source": [
    "eye = np.eye(3)\n",
    "print(\"Единичная матрица:\\n\", eye)"
   ]
  },
  {
   "cell_type": "markdown",
   "id": "af8fff3c-0aaf-4407-8419-48d8fa16e972",
   "metadata": {},
   "source": [
    "### Случайные числа"
   ]
  },
  {
   "cell_type": "code",
   "execution_count": 21,
   "id": "70613064-a0d8-428f-b849-f358c10aee3b",
   "metadata": {},
   "outputs": [
    {
     "name": "stdout",
     "output_type": "stream",
     "text": [
      "Случайные числа:\n",
      " [[0.14022566 0.56549164]\n",
      " [0.01544196 0.10790013]]\n"
     ]
    }
   ],
   "source": [
    "rand = np.random.random((2,2))\n",
    "print(\"Случайные числа:\\n\", rand)"
   ]
  },
  {
   "cell_type": "markdown",
   "id": "763d941d-00f2-414e-8855-4a9acfd8b948",
   "metadata": {},
   "source": [
    "## Математические операции\n",
    "\n",
    "NumPy позволяет выполнять поэлементные математические операции над массивами.\n",
    "\n",
    "### Примеры операций"
   ]
  },
  {
   "cell_type": "code",
   "execution_count": 22,
   "id": "f649a1e1-87ea-4acf-80c7-2eef94077652",
   "metadata": {},
   "outputs": [
    {
     "name": "stdout",
     "output_type": "stream",
     "text": [
      "Сложение:\n",
      " [[ 6  8]\n",
      " [10 12]]\n",
      "Вычитание:\n",
      " [[-4 -4]\n",
      " [-4 -4]]\n",
      "Умножение:\n",
      " [[ 5 12]\n",
      " [21 32]]\n",
      "Деление:\n",
      " [[0.2        0.33333333]\n",
      " [0.42857143 0.5       ]]\n"
     ]
    }
   ],
   "source": [
    "x = np.array([[1, 2], [3, 4]])\n",
    "y = np.array([[5, 6], [7, 8]])\n",
    "\n",
    "# Сложение\n",
    "print(\"Сложение:\\n\", x + y)\n",
    "\n",
    "# Вычитание\n",
    "print(\"Вычитание:\\n\", x - y)\n",
    "\n",
    "# Умножение поэлементное\n",
    "print(\"Умножение:\\n\", x * y)\n",
    "\n",
    "# Деление\n",
    "print(\"Деление:\\n\", x / y)"
   ]
  },
  {
   "cell_type": "code",
   "execution_count": 23,
   "id": "99b10044-0614-4cc7-bd19-ec4b0be15516",
   "metadata": {},
   "outputs": [
    {
     "name": "stdout",
     "output_type": "stream",
     "text": [
      "Матричное произведение:\n",
      " [[19 22]\n",
      " [43 50]]\n"
     ]
    }
   ],
   "source": [
    "print(\"Матричное произведение:\\n\", x.dot(y))"
   ]
  },
  {
   "cell_type": "markdown",
   "id": "9dd8eaf5-78dd-4a9c-8432-0e14ae465740",
   "metadata": {},
   "source": [
    "## Статистические операции\n",
    "\n",
    "NumPy имеет функции для вычисления основных статистических параметров.\n",
    "\n",
    "### Примеры:"
   ]
  },
  {
   "cell_type": "code",
   "execution_count": 24,
   "id": "634b52ce-43da-420e-b84f-01790d8cb426",
   "metadata": {},
   "outputs": [
    {
     "name": "stdout",
     "output_type": "stream",
     "text": [
      "Сумма: 15\n",
      "Минимум: 1\n",
      "Максимум: 5\n",
      "Среднее: 3.0\n",
      "Медиана: 3.0\n",
      "Стандартное отклонение: 1.4142135623730951\n"
     ]
    }
   ],
   "source": [
    "array = np.array([1, 2, 3, 4, 5])\n",
    "\n",
    "print(\"Сумма:\", np.sum(array))\n",
    "print(\"Минимум:\", np.min(array))\n",
    "print(\"Максимум:\", np.max(array))\n",
    "print(\"Среднее:\", np.mean(array))\n",
    "print(\"Медиана:\", np.median(array))\n",
    "print(\"Стандартное отклонение:\", np.std(array))"
   ]
  },
  {
   "cell_type": "markdown",
   "id": "83631bc6-5d85-4e75-b753-6894f9488934",
   "metadata": {},
   "source": [
    "## Копирование и организация\n",
    "\n",
    "### Копирование массивов\n"
   ]
  },
  {
   "cell_type": "code",
   "execution_count": 75,
   "id": "8878e23c-6f87-48d0-b609-e16105590b16",
   "metadata": {},
   "outputs": [
    {
     "name": "stdout",
     "output_type": "stream",
     "text": [
      "a: [10  2  3]\n",
      "b: [10  2  3]\n",
      "c: [1 2 3]\n"
     ]
    }
   ],
   "source": [
    "a = np.array([1, 2, 3])\n",
    "b = a          # Ссылка на тот же массив\n",
    "c = a.copy()   # Глубокая копия\n",
    "\n",
    "a[0] = 10\n",
    "print(\"a:\", a)\n",
    "print(\"b:\", b)\n",
    "print(\"c:\", c)"
   ]
  },
  {
   "cell_type": "markdown",
   "id": "2b21aba0-58cc-4dbb-8f32-68e9e76f4419",
   "metadata": {},
   "source": [
    "### Изменение формы массива"
   ]
  },
  {
   "cell_type": "code",
   "execution_count": 26,
   "id": "8af8ee58-c3d9-482e-84b6-fcc3d13bb309",
   "metadata": {},
   "outputs": [
    {
     "name": "stdout",
     "output_type": "stream",
     "text": [
      "Исходный массив: [0 1 2 3 4 5]\n",
      "Новая форма:\n",
      " [[0 1 2]\n",
      " [3 4 5]]\n"
     ]
    }
   ],
   "source": [
    "array = np.arange(6)\n",
    "print(\"Исходный массив:\", array)\n",
    "\n",
    "reshaped = array.reshape((2, 3))\n",
    "print(\"Новая форма:\\n\", reshaped)"
   ]
  },
  {
   "cell_type": "markdown",
   "id": "40dc7785-1bad-4a2b-bf2e-8b42fda8b3e4",
   "metadata": {},
   "source": [
    "## Объединение массивов"
   ]
  },
  {
   "cell_type": "code",
   "execution_count": 76,
   "id": "4b14b38a-bde2-4f99-a4f4-12c4e8b486ff",
   "metadata": {},
   "outputs": [
    {
     "name": "stdout",
     "output_type": "stream",
     "text": [
      "Конкатенация: [1 2 3 4 5 6]\n"
     ]
    }
   ],
   "source": [
    "# Конкатенация\n",
    "a = np.array([1, 2, 3])\n",
    "b = np.array([4, 5, 6])\n",
    "\n",
    "c = np.concatenate((a, b))\n",
    "print(\"Конкатенация:\", c)"
   ]
  },
  {
   "cell_type": "code",
   "execution_count": 28,
   "id": "41f989af-3523-484d-8b30-41c5c2c3ab7e",
   "metadata": {},
   "outputs": [
    {
     "name": "stdout",
     "output_type": "stream",
     "text": [
      "Вертикальное объединение:\n",
      " [[1 2]\n",
      " [3 4]\n",
      " [5 6]]\n",
      "Горизонтальное объединение:\n",
      " [[1 2 5]\n",
      " [3 4 6]]\n"
     ]
    }
   ],
   "source": [
    "#Объединение по вертикали и горизонтали\n",
    "x = np.array([[1, 2], [3, 4]])\n",
    "y = np.array([[5, 6]])\n",
    "\n",
    "# Вертикально (добавление строки)\n",
    "vstack = np.vstack((x, y))\n",
    "print(\"Вертикальное объединение:\\n\", vstack)\n",
    "\n",
    "# Горизонтально (добавление столбца)\n",
    "hstack = np.hstack((x, y.T))\n",
    "print(\"Горизонтальное объединение:\\n\", hstack)"
   ]
  },
  {
   "cell_type": "markdown",
   "id": "d30562fa-0308-4102-9815-d9855a415541",
   "metadata": {},
   "source": [
    "## Перестановка осей и транспонирование"
   ]
  },
  {
   "cell_type": "code",
   "execution_count": 77,
   "id": "266029a1-bf29-48f6-b7c8-a248fba932d5",
   "metadata": {},
   "outputs": [],
   "source": [
    "# Транспонирование массива"
   ]
  },
  {
   "cell_type": "code",
   "execution_count": 78,
   "id": "3b0fc0d8-cb0c-433c-b9d8-16636f9d7ab8",
   "metadata": {},
   "outputs": [
    {
     "name": "stdout",
     "output_type": "stream",
     "text": [
      "Исходный массив:\n",
      " [[1 2]\n",
      " [3 4]]\n",
      "Транспонированный массив:\n",
      " [[1 3]\n",
      " [2 4]]\n"
     ]
    }
   ],
   "source": [
    "mat = np.array([[1, 2], [3, 4]])\n",
    "transposed = mat.T\n",
    "print(\"Исходный массив:\\n\", mat)\n",
    "print(\"Транспонированный массив:\\n\", transposed)"
   ]
  },
  {
   "cell_type": "code",
   "execution_count": 80,
   "id": "695910f1-4fc1-4e60-9d0d-ab0394f10c38",
   "metadata": {},
   "outputs": [
    {
     "name": "stdout",
     "output_type": "stream",
     "text": [
      "Исходная форма: (2, 3, 4)\n",
      "Новая форма: (3, 2, 4)\n"
     ]
    }
   ],
   "source": [
    "#Перестановка осей с transpose()\n",
    "arr = np.random.randn(2,3,4)\n",
    "print(\"Исходная форма:\", arr.shape)\n",
    "\n",
    "# Перестановка осей\n",
    "new_arr = arr.transpose((1,0,2))\n",
    "print(\"Новая форма:\", new_arr.shape)"
   ]
  },
  {
   "cell_type": "markdown",
   "id": "1d1195f5-a3e6-40e7-9172-718960aed6db",
   "metadata": {},
   "source": [
    "## Быстрые поэлементные операции\n",
    "\n",
    "NumPy позволяет выполнять операции над массивами гораздо быстрее, чем это делается в обычных циклах Python.\n",
    "\n",
    "Пример поэлементных операций"
   ]
  },
  {
   "cell_type": "code",
   "execution_count": 81,
   "id": "740efbbf-0cda-481a-8500-4af4ef7fff2d",
   "metadata": {},
   "outputs": [
    {
     "name": "stdout",
     "output_type": "stream",
     "text": [
      "418 µs ± 15.5 µs per loop (mean ± std. dev. of 7 runs, 1,000 loops each)\n",
      "16 ms ± 231 µs per loop (mean ± std. dev. of 7 runs, 100 loops each)\n"
     ]
    }
   ],
   "source": [
    "array = np.arange(1000000)\n",
    "\n",
    "# Операция NumPy\n",
    "%timeit array * 2\n",
    "\n",
    "# Операция с помощью списка и цикла\n",
    "list_array = list(range(1000000))\n",
    "%timeit [x * 2 for x in list_array]"
   ]
  },
  {
   "cell_type": "markdown",
   "id": "625484d2-dd38-4cf6-9e7b-e1b3ef9d3483",
   "metadata": {},
   "source": [
    "# Заключение\n",
    "\n",
    "Мы рассмотрели основные принципы функционального программирования в Python, узнали о функциях, аргументах, лямбда-функциях, генераторах и декораторах. Также познакомились с библиотекой NumPy: научились создавать массивы, выполнять операции над ними и использовать различные функции для обработки данных.\n",
    "\n",
    "Эти знания являются фундаментальными для дальнейшего изучения Python и применения его в различных областях, таких как анализ данных, машинное обучение и научные исследования."
   ]
  },
  {
   "cell_type": "code",
   "execution_count": null,
   "id": "0a8ebe40-cff7-42ca-b3ea-80b324a755e8",
   "metadata": {},
   "outputs": [],
   "source": []
  }
 ],
 "metadata": {
  "kernelspec": {
   "display_name": "Python 3 (ipykernel)",
   "language": "python",
   "name": "python3"
  },
  "language_info": {
   "codemirror_mode": {
    "name": "ipython",
    "version": 3
   },
   "file_extension": ".py",
   "mimetype": "text/x-python",
   "name": "python",
   "nbconvert_exporter": "python",
   "pygments_lexer": "ipython3",
   "version": "3.11.8"
  }
 },
 "nbformat": 4,
 "nbformat_minor": 5
}
